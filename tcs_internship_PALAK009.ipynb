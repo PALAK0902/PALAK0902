{
  "nbformat": 4,
  "nbformat_minor": 0,
  "metadata": {
    "colab": {
      "name": "tcs_internship_PALAK009",
      "provenance": [],
      "authorship_tag": "ABX9TyOuAgAaZfQrSj7nK3WyYCg5",
      "include_colab_link": true
    },
    "kernelspec": {
      "name": "python3",
      "display_name": "Python 3"
    },
    "language_info": {
      "name": "python"
    }
  },
  "cells": [
    {
      "cell_type": "markdown",
      "metadata": {
        "id": "view-in-github",
        "colab_type": "text"
      },
      "source": [
        "<a href=\"https://colab.research.google.com/github/PALAK0902/PALAK0902/blob/main/tcs_internship_PALAK009.ipynb\" target=\"_parent\"><img src=\"https://colab.research.google.com/assets/colab-badge.svg\" alt=\"Open In Colab\"/></a>"
      ]
    },
    {
      "cell_type": "markdown",
      "metadata": {
        "id": "jwwCHekIly0l"
      },
      "source": [
        "## **STEP 3 - PROCESSING OF DATA **"
      ]
    },
    {
      "cell_type": "code",
      "metadata": {
        "colab": {
          "base_uri": "https://localhost:8080/"
        },
        "id": "upl0GFGXakAu",
        "outputId": "26b392f3-88e6-4959-e7df-81fea0db51ca"
      },
      "source": [
        "from __future__ import division\n",
        "import numpy as np\n",
        "import os\n",
        "import glob\n",
        "from random import *\n",
        "from PIL import Image\n",
        "from keras.utils import to_categorical\n",
        "from sklearn.preprocessing import LabelEncoder\n",
        "from sklearn.model_selection import train_test_split\n",
        "import matplotlib.pyplot as plt\n",
        "import pandas as pd\n",
        "import matplotlib.image as mpimg\n",
        "# %matplotlib inline\n",
        "from keras.models import Sequential\n",
        "from keras.layers import Dense, Dropout, Flatten, Lambda, ELU, Activation, BatchNormalization\n",
        "from keras.layers.convolutional import Convolution2D, Cropping2D, ZeroPadding2D, MaxPooling2D\n",
        "from keras.preprocessing.image import ImageDataGenerator\n",
        "from keras.optimizers import SGD, Adam, RMSprop\n",
        "from google.colab import drive\n",
        "drive.mount('/content/gdrive')"
      ],
      "execution_count": null,
      "outputs": [
        {
          "output_type": "stream",
          "text": [
            "Drive already mounted at /content/gdrive; to attempt to forcibly remount, call drive.mount(\"/content/gdrive\", force_remount=True).\n"
          ],
          "name": "stdout"
        }
      ]
    },
    {
      "cell_type": "code",
      "metadata": {
        "colab": {
          "base_uri": "https://localhost:8080/",
          "height": 229
        },
        "id": "oXt2c9XHayhC",
        "outputId": "7f54b03c-513d-4865-a88f-6226041e082b"
      },
      "source": [
        "d = {}\n",
        "from subprocess import check_output\n",
        "with open('https://drive.google.com/file/d/1VNxRlaZSeNW7a5DjwnqIYk4HVWGDEF6M/view?usp=sharing') as f:\n",
        "  for line in f:\n",
        "    key = line.split(' ')[0]\n",
        "    writer = line.split(' ')[1]\n",
        "    d[key] = writer\n",
        "print(len(d.keys()))"
      ],
      "execution_count": null,
      "outputs": [
        {
          "output_type": "error",
          "ename": "FileNotFoundError",
          "evalue": "ignored",
          "traceback": [
            "\u001b[0;31m---------------------------------------------------------------------------\u001b[0m",
            "\u001b[0;31mFileNotFoundError\u001b[0m                         Traceback (most recent call last)",
            "\u001b[0;32m<ipython-input-9-8b85bada569d>\u001b[0m in \u001b[0;36m<module>\u001b[0;34m()\u001b[0m\n\u001b[1;32m      1\u001b[0m \u001b[0md\u001b[0m \u001b[0;34m=\u001b[0m \u001b[0;34m{\u001b[0m\u001b[0;34m}\u001b[0m\u001b[0;34m\u001b[0m\u001b[0;34m\u001b[0m\u001b[0m\n\u001b[1;32m      2\u001b[0m \u001b[0;32mfrom\u001b[0m \u001b[0msubprocess\u001b[0m \u001b[0;32mimport\u001b[0m \u001b[0mcheck_output\u001b[0m\u001b[0;34m\u001b[0m\u001b[0;34m\u001b[0m\u001b[0m\n\u001b[0;32m----> 3\u001b[0;31m \u001b[0;32mwith\u001b[0m \u001b[0mopen\u001b[0m\u001b[0;34m(\u001b[0m\u001b[0;34m'https://drive.google.com/file/d/1VNxRlaZSeNW7a5DjwnqIYk4HVWGDEF6M/view?usp=sharing'\u001b[0m\u001b[0;34m)\u001b[0m \u001b[0;32mas\u001b[0m \u001b[0mf\u001b[0m\u001b[0;34m:\u001b[0m\u001b[0;34m\u001b[0m\u001b[0;34m\u001b[0m\u001b[0m\n\u001b[0m\u001b[1;32m      4\u001b[0m   \u001b[0;32mfor\u001b[0m \u001b[0mline\u001b[0m \u001b[0;32min\u001b[0m \u001b[0mf\u001b[0m\u001b[0;34m:\u001b[0m\u001b[0;34m\u001b[0m\u001b[0;34m\u001b[0m\u001b[0m\n\u001b[1;32m      5\u001b[0m     \u001b[0mkey\u001b[0m \u001b[0;34m=\u001b[0m \u001b[0mline\u001b[0m\u001b[0;34m.\u001b[0m\u001b[0msplit\u001b[0m\u001b[0;34m(\u001b[0m\u001b[0;34m' '\u001b[0m\u001b[0;34m)\u001b[0m\u001b[0;34m[\u001b[0m\u001b[0;36m0\u001b[0m\u001b[0;34m]\u001b[0m\u001b[0;34m\u001b[0m\u001b[0;34m\u001b[0m\u001b[0m\n",
            "\u001b[0;31mFileNotFoundError\u001b[0m: [Errno 2] No such file or directory: 'https://drive.google.com/file/d/1VNxRlaZSeNW7a5DjwnqIYk4HVWGDEF6M/view?usp=sharing'"
          ]
        }
      ]
    },
    {
      "cell_type": "code",
      "metadata": {
        "id": "DUOyNuO8cCDm"
      },
      "source": [
        "tmp = []\n",
        "target_list = []\n",
        "path_to_files = os.path.join('https://drive.google.com/drive/folders/1Vg8wmQ93drKVN81luCiHwObHuDC3N00S?usp=sharing','*')\n",
        "for filename in sorted(glob.glob(path_to_files)):    \n",
        "    tmp.append(filename)\n",
        "    image_name = filename.split('/')[-1]\n",
        "    file, ext = os.path.splitext(image_name)\n",
        "    parts = file.split('-')\n",
        "    #print(parts)\n",
        "    form = parts[0] + '-' + parts[1]\n",
        "    \n",
        "    for key in d:\n",
        "        if key == form:\n",
        "            target_list.append(str(d[form]))\n",
        "\n",
        "img_files = np.asarray(tmp)\n",
        "img_targets = np.asarray(target_list)\n",
        "print(img_files)\n",
        "print(img_targets)"
      ],
      "execution_count": null,
      "outputs": []
    },
    {
      "cell_type": "markdown",
      "metadata": {
        "id": "2wtkJeUfcqPh"
      },
      "source": [
        "https://drive.google.com/file/d/1FhKYRDP3Qeut2wUwyOgqvvaDiSYY0oeC/view?usp=sharing\n",
        "https://drive.google.com/file/d/1M-EOX2QrbF9iOo5-7YGRlbdyKqTU4oxD/view?usp=sharing\n",
        "https://drive.google.com/file/d/181Td0_kYQcDVJ9uZEWWf5_4wq8LsOaFG/view?usp=sharing\n",
        "https://drive.google.com/file/d/1flE54selZXJroSKTALdDZi2aiqOdEgt8/view?usp=sharing"
      ]
    },
    {
      "cell_type": "code",
      "metadata": {
        "id": "SGsXX3h2caWO"
      },
      "source": [
        "# Visualizing the data\n",
        "for filename in img_files[6:15]:\n",
        "    img=mpimg.imread(filename)\n",
        "    plt.figure(figsize=(10,10))\n",
        "    plt.imshow(img, cmap ='gray')"
      ],
      "execution_count": null,
      "outputs": []
    },
    {
      "cell_type": "markdown",
      "metadata": {
        "id": "TUagdQU4eHOM"
      },
      "source": [
        "![line.png](data:image/png;base64,iVBORw0KGgoAAAANSUhEUgAAAlYAAABCCAYAAACVfZi7AAAABHNCSVQICAgIfAhkiAAAAAlwSFlzAAALEgAACxIB0t1+/AAAADh0RVh0U29mdHdhcmUAbWF0cGxvdGxpYiB2ZXJzaW9uMy4yLjIsIGh0dHA6Ly9tYXRwbG90bGliLm9yZy+WH4yJAAAgAElEQVR4nOy9eXiU5b3//3pmJslk3/eVhISwQyABkbAJbiAqqFi3ak9dulz2HFv7a3vOt4u1vdTW9qitHrVwtFoFjkhxYVGQJSwCSQgkAUL2PSH7PjOZmef3R3LfPjMkEqws6vO+rlwzeeZZP899f+7P/f4st6KqKjp06NChQ4cOHTr+dRgu9w3o0KFDhw4dOnR8XaAbVjp06NChQ4cOHV8SdMNKhw4dOnTo0KHjS4JuWOnQoUOHDh06dHxJ0A0rHTp06NChQ4eOLwm6YaVDhw4dOnTo0PEl4aIYVoqiXK8oSomiKGWKovzsYlxDhw4dOnTo0KHjSoPyZdexUhTFCJwBlgF1wFHgW6qqnvxSL6RDhw4dOnTo0HGF4WIwVllAmaqqFaqq2oD1wM0X4To6dOjQoUOHDh1XFC6GYRUL1Gr+rxvepkOHDh06dOjQ8bWG6XJdWFGUh4CHAHx9fWelp6dfrlvRoUOHji8NTqeT7u5u2tvbsdvtLtsVRcFgMODh4YHJZMJsNuPr64uHhwdGo/G851YU5WLeug4dOsaIvLy8VlVVw0f67WIYVvVAvOb/uOFtLlBV9RXgFYDZs2erubm5F+FWdOjQoePSYv/+/Tz33HNERUWxaNEiQkND6e3tpbS0lNLSUpqamujs7GRwcBCAkJAQUlJSyMzMZO7cuYSHh2MwGDAYDC6GlKIomEwmDAY9mVvH6LDb7bL9fBXhcDjOaftXIhRFqR7tt4thWB0FUhVFGceQQXUncNdFuI4OHTp0XHGoq6vDaDSyZs0apkyZgsFgwOl0smDBAiwWC2fPnqWyspLq6mpyc3Opq6vj0KFD5OXlsW3bNpYvX05GRgbR0dGYTCY5wHzZiUZfRwiGUFGUL0Ve4hyqqsr3cL4BX7uvOH60/z/v2M87p6IoOJ1OF+PJ6XRy7Ngxdu3aRVZWFtnZ2SiKcs75hGwMBsOYWNJ/FQ6HA4fDQV9fH1VVVURFRREYGHjO9Z1OJ6dOnWLHjh1kZWUxb948gHMMRPH82udSVfUc2TmdToxGI06nU24TxwnZCRZ5JIjzad/Z+d6fwJduWKmqalcU5YfADsAIrFNVtfjLvo4OHZcKDoeD3t5efHx8zhnoRhr0RuqA2k56oQOlqqrYbDYsFgve3t54eHi4KPmROv5I/38exqrMx3q/Y73GlYSenh7ef/99/P39Wbx4MV5eXgByEIIhZa2qqsuAoJWN3W4nKCiI22+/ncmTJ2MyDalYcbzZbCYhIYH4+HgURWH16tVUV1ezY8cO8vLyKC8v58UXXyQ8PJwlS5Zw7bXXEhUVhdFovOLld6VAawyNBPcBWQyu7oOywWAY0bAa6Tqj/TbafXyePhjJSBjpd/fvvb29bNmyhRMnTjAwMMDs2bMxm83yeMECiWe+VIyWw+Ggu7ub119/ncLCQq699lpWrlx5zn5Wq5WPP/6YTz75hK6uLmbMmCH7IJxrnLrLVcjCXaZa/ehwOKRhZbfbMZlMcpsW4n9hlAm5iXNpjbWRcFFirFRV3QpsvRjnvlxwOBz09PTg6+srldxIg9hXlX7VMTLsdjvbtm1j27ZtzJ8/n5tuukkaNu7KF4Y6nNlsxmKxyHga97ahVeYCWmUgOq1QSEeOHGHbtm00NjaSkpLC6tWrmTRpEmazWV5fVVU5iGvP5678tQpB3JtWeYhPd6WvPa/7NcTx2nvQKiDt84/2zFoIl9elxvHjx3nzzTdRVZXY2FgmT558jhIX9+xwOM4ZkIUBnJqaSnh4OB4eHvI4g8GA3W7Hw8MDGHq3AP7+/kycOJGUlBRKSkrYtGkTJSUlVFdXs27dOj755BOuvfZarr/+esLDRwzn0KHBSDp5pMmNFqJffh47oW2nwlWlvQ5wQcaKtq+NxJqMhdHS3p/T6cTDw4P4+HiOHj1KXl4eRUVFZGRkuOiIkdieS4Genh6Kioqor6+noqJCytDpdEq52Ww2mpub6e7uprS0lLNnzxIbGyv1qPbeR2OOxDMKd6i234r/xW+CzdLqZfE5koy17ed87/myBa9/leB0Ojl+/DgbN25kwYIFLF68GBjqYEaj0UXZ+vr6XrRGeyEMgqqqOBwOBgcH5axFn/FeOAS9XlNTw8cff0x2djZhYWHAZwpNMBju7gLtLGckhS5+E+yHu9HR0NDAf//3f3Ps2DG8vLywWq00NjZSVFTEt7/9bVauXInJZJLKQSgrd2NPe05wnbmK/7W/j8a2CWNAq6iF0nMfHEYyJkcyyka63uVCaGgoqqrS2dlJTk4OaWlp58hT3GNDQwOVlZXMmDEDHx8fYOg5PD09iYmJGdFt5OHhIQ0y8c7tdjtGoxG73c769eupqKjg+9//PuXl5Wzbto3y8nJeeukl9u/fz49//GMmTZqkT97OA/cB8nzs0Uhwb8vi2NEG1ZFcU+djjM/X7kdydWm/i3sRhoLJZGL27Nls3ryZtrY23n//fdLT02X71Lq/3FnXiwlxvYGBAQYHB0dkfkTCR0VFBTabjY6ODkpLS4mOjpbncXd7uhtZTqeT3t5e8vLyKCsrw2azkZKSQlJSErGxsZjNZoxGIyaT6RwDcyQvgtYY0+4zFlwxhpUQlNPpZGBgAIPBgJeX16jW9ecZFuczOgTGKiin08mePXsoKSnBYDBw1VVXYTKZpD9fvCgBi8VCb28vXl5eLjN48SyKojA4OCgHQ3EvoqFrZ1CiUbrft3jpWtZEu39XVxcbNmygsrKS733ve8TFxbnMlj08POT/OkaH0WhkwoQJfPrpp7S3t9PV1UVERMQ5RpPWqNFC2+k/z+ARf2IGZ7PZ2LBhA3l5eaxevZqlS5dSXl7OW2+9RVNTE2+88Qbjx49nypQp5yhI0QZGGhzE9UZyfbgrKu05tEaV+36CSndXQtpZntaYG6lPj6TYLjXi4+NJSkoiNzeX3bt3s2rVKhlIrmXeurq6WLt2LaWlpfzwhz9k9uzZ8hm0itrdDaF9NtFejEYjDoeD0tJSPvjgA5xOJyaTiW9961vMnTuX119/nQMHDpCfn8+TTz7JM888w7hx4y69cL4icG/n7tvE9rGOHaO1x9EmBudjekdjXD5vIjQSUyOO1RpIdrudhIQEkpOT2bt3LwcPHqS8vJxJkybJ8eVy9K/e3l6OHj1KVVUVAwMD0sDSMtiKolBXV0dbWxtOpxOHw0F+fj5z587F09NT7iPitYxG4zmGVltbGy+++CLHjh1DVVWsViuKouDj48PEiRNZsmQJs2bNwsfHx6VPa9/BSHFrWrZd7HM+2+GKmPoIl0dzczMbN27ke9/7Ht///vf5+OOPaW9vp7u7m76+PvlSenp66O3tpa+vD6vVisViYWBgAIvFgsViob+/n76+Pvm/+BPHDwwMYLPZxnx/iqIQEBDA4OAgDQ0N9PT0SOMEhhq0yPABKCgo4KmnnuLo0aOyITgcDpdGLbJ7hAUt5ADIwXWkwUx0DjHzFS/abrfLT7vdTmVlJdu3b+fIkSO8++67DA4Oyr+xNAwdn0EwGQMDAzQ3N8v3A66zqJEGVvisw2r3Ge1PnLO2tpacnBzp+ktJSWHJkiX8x3/8B1FRUbS3t/Pmm2/S29uLw+HAbrdLw1pcZySjfCS4z9JEW3U6nQwODrrEIGgNQKHwtfE/57veSAyCuwFyuWA0Glm6dCkGg4Gqqir279/vcl+i31gsFurr6+np6aGgoOCcGA33YFnxKWSrHRTEvt3d3dhsNhnk29vbS2RkJHfddRfp6ek4HA7OnDnD6dOnL5U4vpJwN2C029y3ux8jfndnV0faD3CZFI/0+2jncI/PGYnNBVz0jPh/JIj9VHXIFT9nzhwsFgtNTU1yDHK/xqViqwA2b97Mb3/7W+rq6rBYLLS1tWG1WrHb7XIcs1qtHDx4EJvNhpeXFxaLhdLSUnp7e+XzlZSUsG7dOnbv3i29MeJ4h8NBcXExR48exd/fn8cff5xHH32U6667Dk9PTz799FOeeeYZnnnmGerr6136ozi/mAC6M/qi79vt9jGTNleEYQXQ39/P//7v//L0009z+vRpjh8/znPPPcehQ4fkC7Db7VitVhc6VjysaFiisY+kqIUAtUbLWKAoCsnJyZjNZmkACotXXEvM1p1OJzt37qSwsJB3332Xzs5OAJe4LC3TIf607JHYVztL0RpPAlpLWvwvjh0YGKCzs5Pe3l62bdtGaWmplInuShg7FEUhNDRUsqddXV3y/QkjVRur5N7xRMcFpNEroGVpxbsRCq+kpISenh4mTJhAQEAAqqri5eXF5MmTufvuuwE4evQoZ86ccWFT3A00cR2tYh2JVRN9wp1h06b3j0aLa9upu+GlPf9Ig8dY2IFLBZPJxMyZMwkJCcFqtbJ161Z6enpcWDdVHXL3eXl5MTAwQG5uLr29vS7P4z4bdp8YCd0jDCzR/8Vxf/nLX/jud7/Lgw8+yI9//GNOnz6NqqoEBwe7uEZ0jAxtO3Y3pEYyYrTtU/ubdttIrJGWARrpU6uXxXHasUw7qLtPMEaaILn/ZrVaaWhoIC8vj2PHjsm6aVOnTiUwMBCr1cr7779PS0uL1D3ayfel6G+qqlJYWCjLi3R2dnL27Fn6+voYHByUz9fY2Eh+fj6hoaHMnTsXVVWpra2lsrISp9NJa2srzz33HJs2beLIkSMuetRdl3R3dzMwMMDVV1/NAw88wK9//Wv+/d//nejoaPLz8/nHP/5BX1+fS6ycdkIp3o32/KKNjHWyekW4Ah0OBy+++CI7duxgyZIlxMfH88knn9DR0cGHH37ItGnTCAwMBBhx4BDQMjjCzeZ0OiWVqFVqFwJVHQpmNRgMtLW1UVJSQnp6uksHE75uRVGIj4+nr6+Pw4cP89FHH7F69Wp5P2Lg1N6HuF9hFNlstnNmtP39/XR2dtLT00NERAR+fn5SyRuNRvlsWiUumMCenh527dpFamoqHh4eY24cI8GdeRPyEZ/ugaAjWfdaY9HpdFJdXU1HRweBgYGEh4fj7+8/IhMkBqtLOduCodgYkZWn7YhaY9ndsBDbhMtYKwutQSXibbTnEO/NZDIREBDgYrh5eHgwe/ZskpOTOXnyJPn5+WRkZMh7cp99i0/tPQmIbeI5BPMigjrFu3aXubvbU3ve0VwxI7UD7cREi8tp+AcGBhIdHU1dXR2lpaWcOHGCefPmSQPJbrfj7e3NlClTKCoqorm5maamJvz8/IDPBlvR30cytOCzVHDxvxgUVXWIGfXw8KCrq4vExEQiIiIYN24cixcvZuLEiZdNNlcSRmM4RZt2Z5PAdaIhvttsNpf/tXrYnQHWehC019JOrsT5xTHaMamjo4OjR49SU1NDQEAA06dPJykpCbPZfM5zaCcx7pN4q9XKmTNn2LZtG0eOHKGzsxMPDw9iY2OZPn068+fPJzExkebmZsrKyvjggw+45557XM5zqZhh4e0xGo0MDAwAQx6d119/nfvuuw8/Pz86Ozt5+eWXaW1t5d577yUuLo68vDy6urrIyckhPj6ed999l1OnTmEwGKioqKClpYXIyEgXomHChAkkJiZy+vRpXnvtNby8vJg+fTrR0dHExsYSGRnJn/70J0pLS+nu7nbJOHTX21rZa3X5WMfNK8Kw6uzsZMuWLaxZs4Z77rkHT09P5syZw5NPPsnRo0cpLCxkwYIFLsaSoigyaA8+K4omFBl81kng3IZ0oQ3L29ub6OhoamtrOXHiBNddd52cZQIunWvWrFmsX78eq9XKzp07WbRoEWFhYfLFaFk1bUChdlYrjLT+/n4KCwvZtGkTVVVV9PT0kJKSwqxZs+jp6eGuu+4iLCxMDnRCOUdERGA2m+UsZfv27dx+++1ERUV9oecXsFqtLm7IlpYW8vLy6Onpwc/Pj/j4eEJDQ4mKisJkMsnyBNoZmzACnU4nxcXFPP3007S0tODl5UViYiJLliwhKyuLqKgoPD09z5n5uWeXXUwIel17ba0b2N2YEdC+U232i3BVm0wm/Pz86OrqwtfXF19fXxdj2+FwYLPZ6OzsdAk2dTqd+Pv7k5mZSVFRETU1NdhsNqxWK4ODg/j6+uLt7e2iEBwOh6TePT09ZZVvcX9aY1nEPoh7dh9k3A1Ed2iN5pGMLXcmq62tjaKiIvr6+vD19SUsLIzY2NjLxsxoM6usViuvvfYa6enphISESHe/0WgkMDBQhiLs3LmThIQEl0zG0VxOWiNVG8irNcIeffRRZs2axeDgIIGBgXh5eclK7d/UuEih1wYHB8nJyWHHjh1ERkZy6623kpCQgKenp4sx0tXVRX9/P+Hh4XLiq22vNpuNhoYGPvjgAxoaGvD09CQqKoopU6YwceJEgoKC5BgDn3k7RH9wjw8S79A9FkdkuxUVFbFu3Trq6urkWLV582YWLVrELbfcco5edncvC73T0dHBli1b2LJlC1arlfT0dBISEujo6KC5uZlt27Zx4sQJqV9tNhtvvfUWmZmZ0igXSRSXqi2lp6fj6emJ2WxmcHCQ/v5+NmzYwMmTJwkLC6Onp4eWlhbuvPNOli5ditPpJDk5mfz8fD755BMqKiqorq7G29ub/v5+GhsbOXjwIDfddBNeXl5SpwQEBLB69Wr+53/+h8rKSp599lkWL17M0qVLiY2NJTQ0FB8fH2w2m+yLg4OD58RrjaSv3Meg8+GKMawmT57MihUrZFbduHHjCAsLo7i4mIKCAubMmSMbhFDy2uJfWkXmPjvXzq61zM5YoSgKvr6+TJo0iYMHD5Kbm0t9fT0JCQkA57BgMTExZGZmsnnzZlmj5lvf+pa8V/Gy7HY7jY2N+Pv7ExQUJM8l7q2hoYG1a9dy5MgRAgICCAgIoKenh8LCQoqKijCZTKSnp7Ns2TIXxSxq6aSkpFBVVYXD4aCmpoaKigpphP0rEJTuzp07+eijj6iursbHxwdFUfDy8sLb25tp06axatUq0tLSzpkBaAeXxsZGmpubsVgs2Gw2jh07RlFREcnJydxxxx1kZ2cTEBAgFdvlSMPv7++XbFVgYOA5ClUodC0jCZ+1i8bGRioqKjhw4ADV1dX09fUREBBAcnIytbW1zJs3j1WrVsl2bbfbZT8oLy+nv7+f4OBgFxmmpKSgKApNTU1s2LCBffv20dLSwrhx41i5ciWZmZn4+flht9s5deoUW7dupb6+nqioKJYtW0ZGRoZkOgEGBgZwOBz4+/u7GABa98Pg4CBnz56lpaWFKVOmSDfhSEyZlrnUQmtkFxYW8l//9V9UVFTIa5rNZmbOnMmrr77qMqO8FBDPIdgni8VCcXExO3bs4LbbbpPysNvttLW1yUFi69atLF++nLi4OKlfRjIq3WVhNBplrGdkZKT832azERERIfWbkPOlmkx82dC2D/dJiIgps1qtWK1WSktLiY2NJSUlxaV9iZiaQ4cO8fTTT1NdXY2npycHDx7kySefJD09XRpPRUVFvPDCCzQ1NbFy5UpWrFgh9Z7T6aSqqop//vOf5Obm0tLSIvWy0Whk+/btpKens2bNGiZOnIjNZmP//v3s3bsXp9MpDeikpCRiYmJITEzE29vbxVXs7mpsaWnh+eefp7OzkzVr1uDn50dxcTEHDx7ko48+4syZMzz66KMkJCScw2pqdWdXVxevvvoqu3btIi0tje985zvEx8djMBjo6enh008/ZcuWLdTV1WGz2fD09KSnpwebzcYf/vAHnnzySeLj411CYi4FkpKSCAoKwmazSY+Jw+GgsLAQPz8/rr76au644w6ysrIwm82oqsq8efMkI2wwGMjOzmbGjBmsX7+e2tpaNm7cSGhoKPPmzZP9RFVVZs6cyY9//GPefvttcnNzWb9+PTt27OC6666jtraWqqoqVqxYgZ+fn4stoZ0AC52uZSnBNT72fMzVFWFYORwOJkyYINPYxSwhLCxMuvEsFosLZdvT0yMFpaoqQUFBJCcnEx8ff86AoP3UUr0XAoPBwOTJkwFoa2vj1KlTJCYmAucWE/P09OSmm27i8OHDtLe38/777zNhwgRmzZrlwqYdOXKEZ599lunTp/PYY4/h6+srB9aBgQHWrVvHvn37WLBgAffccw/e3t6cPHmSV199ldLSUux2O6WlpSxZsuScl24wGKThJ2YuZ8+elbOlf6VT1dbW8sILL3Dq1Cmio6OZNWuWHHgbGxuprq6msrKSsrIynnjiCTkbE6UBtL7qrq4uPD09mT59OpmZmezevZuSkhLKysr485//TE5ODrfddhvTpk37l+/7i6K/vx+n00lgYCAxMTHSuNO68cTzuRsie/fuZf369VRXV2MwGPDx8cHhcFBfX09+fr402lesWIGXlxcGgwFPT09SU1Px8/OjqqqKgoICFi5c6DLzFnE9xcXFNDU1AdDS0kJ1dTX5+fnMnj2bu+++m7y8PLZv3y5nZsLFtWbNGhYvXoyHhwfHjx9n27ZthISE8N3vfhcvLy9p4Gsp8qqqKp5++mna29t58skn5QxYOzAB5ygjd/ewmM0fOHCAiooKfH19iY+Pp66ujqSkJFmt/HJAVVX6+vrw9PREVYfqUr322mvExcUxZ84cDAYDfX19FBcXYzKZ6O7upry8nAMHDnDHHXdIXaBdVsSd8dMyK2KgEesFWiwWWltb5TGCsXV3UXyVoGXk4LO0+JKSEvbu3cu+ffvo6OhgYGCAtrY2ZsyYwXPPPSf1q0B3dzebNm3CZrORmJhIfX09x48f56WXXuJ3v/sdwcHBDAwMsHbtWmkIlZaWsnfvXv7jP/6DyZMn09DQwDPPPEN1dTWZmZk88MADeHl50dXVxeHDhykrK6O0tJR169bx+OOP09DQwEsvvUR7eztGo5Hc3FwUZSgmzs/Pj6SkJObMmcP06dMJDw/H19cXcA0POX36NI2NjSQmJrJo0SL8/f2ZN2+eNBQqKirYuXMn3/72t10GeHEeGGLY3nnnHbZt28aECRN47LHHiIyMlPt7e3tz/fXXo6oqGzdupLe3Fz8/PywWC4ODgxw5coR169bx4x//WLJxl8pQj4qKIjw8nO7ubqxWK2lpadxwww14eHiQkJDAtGnT8PX1lc9tMpm48cYbpT6dOXMm0dHRGAwGrFYrr7zyCo2Njbz44oscP36c6dOn4+/vT0BAgExcmzBhAp2dnZw8eZLa2lr+9re/4enpSUhICJ6entTW1hITEyNDakSCmfCwaNusdswRffd8+umKMKxgyKoVrjWheIWw8/PzqampISgoSMY7CMvVarVK4ysuLo7HH3+c8ePHA+emT4oXJ5gFcdxYERkZSVhYGGVlZezatUsOTALahpqUlMR3v/tdnn/+eZqbm/nLX/7CL37xC5KTk6Wr79SpU5w6dYqGhgays7O5+uqr5fEHDx7k8OHDZGZm8m//9m8EBQVhNBqZO3cu/f39/O53v8NisVBdXS1dPKIROJ1Ojhw5wqZNm6RBOjAwwOuvv05HRwczZ85kxowZF/z8MJQ6u27dOoqKilixYgW33XabZHGEUvvnP//J4OAgtbW1NDQ0yMrR2pg0Qet3dHTg6enJrFmzuPnmm1m8eDFHjhxh+/btFBcX8+GHH7J3717uvPNObrvttstSJLG2than00lsbKyLUhKyHomV6Ovr4x//+Afr168nICCARx55RMa4tba28vLLL3Pq1ClpbGrdw6qqkpSUxLRp08jJyWHr1q3MnDkTf39/6Z6oqKjA6XRy0003cfvtt2M0GmloaODjjz9m3759HDx4kOLiYqxWK1OmTOHhhx+mp6eH3bt3U1BQwIYNGwgPD2fSpEm8//77HDp0iODgYFasWCENcjHBEf2mrKyM2tpauru7KSwsJC0tDUAqJHdmQgwKWqNA61oJCQkBhgzSxx57jLi4OAIDA/Hz87ssLi8h2+7ubgwGAzExMbS1tdHb28sLL7xAREQE8fHxnDhxgvLycgIDA+np6WFgYIC9e/dyyy23SJeUlrl0j9Vxdy2oqoqvry9ms5n+/n7a29vlvu4TpgsZDMW5bTYbXV1dLq5Mf39/yTJfigFW3IvdbufMmTP89a9/5dNPP8Visci4MpHllZeXx+bNm/nhD3/o0oby8/OprKwkLS2NH/zgB/z1r3/lk08+IScnh6KiIubPny+DuT08PIiOjqa1tZVTp07x5z//me9///sUFhZSWVnJwoULeeihh2RiiKIoZGdn8+mnn7Jx40ZaWlqoqKiQQdaBgYHcfvvtqKpKe3s7lZWVVFZWUlRUxKlTpwgNDSUmJoY5c+aQlZVFeHi4nHgJ/djQ0EBjYyMBAQGYzWauuuoqKioq2LFjhxzLRM0pcI3lqq2tZdeuXSQmJvLoo48SExMDfDZxEX103rx5fPTRR7S0tGCxWPDz82NwcJC+vj7J8tx///34+vpeMiM9JCSE6dOn09LSQkdHB8nJyZIBFiSHmKyK5/Hz85PV2bUTvIULF9LR0cHGjRtd3KKenp54enrS398v2U0/Pz/S0tIIDw+nv7+f6upq+vv7efvtt9m5cydpaWnMmzePq666SnpaRiIetO7dsXq7rgjDSlEUSdWKB+vt7aW8vBync6hAo+hgH374IU6nk4CAALlgqbe3Nzk5OTQ3N7Nv3z4SExOlYhZC0MaRuCu+scDpdOLn58fChQuprKzk+PHjNDQ0MH78eBeDQcBoNJKdnU1VVRXvvPMO9fX1vPzyyzz++OOSmRMB8b29vbzxxhukpqYSERHBwMAA27dvx2KxMG/ePLmuEgyxYRkZGcTExFBRUUFNTQ3d3d2EhobKlz84OMiOHTtobGzEbrfLNO79+/eTn59PXFwcL7zwAgsWLLjgdyUyNuPi4li9erU0dMTs2t/fH29vb1ks1dPTE4vF4rI8iPg8e/Ysubm5mM1mZsyYgcFgIDg4mGXLljF79mxycnJYu3YtZWVl/PWvfyU/P5/f/OY3TJgw4ZcCdDkAACAASURBVILv+4vC4XBw8uRJLBYLERER5yyxoI2NE4yEw+Fg69atvP3220ycOJFHH32UxMREuV9iYiIZGRmUlJQAkJaWJpdWEIrGbDZzyy23cPr0aYqLi9m8eTO33347Xl5etLe3U1RURFhYGKtXryYhIQGHw0FsbCxTp05l2rRpPP/887S2tuLl5cVNN90ki10mJyfzyiuvUFhYyMGDB0lKSqK1tRW73U5LSwtNTU2y2rEw+sTAK+7RYrFIF4ooF6JlU8RAZbVaKS4uprOzk4yMDPz8/KSrzGg0yliW9vZ2Nm/ezK9+9Ss5mbocEGxVU1MTZrOZO++8k9bWVjZt2kR9fT1/+MMfmDdvHgcOHADg7rvvZtOmTRQVFZGbm0tpaSkzZ850YY3dExS0MRva+Exvb298fHzo6Oigra1NLrch9v0ixk9fXx/79+9n3759MtW9v78fDw8PIiMj5URGu+zJxYAYFPv6+njnnXd4++23sVgsLFmyhOuuuw5vb2+eeeYZCgsLpbw+/PBD7rnnHiIjI4Gh2M78/HwGBwfJysoiISGB73znO5w8eZK2tjaOHz/O/PnzKSsro729nfj4eJ5++mny8/N57bXXKCsrY+3atZKJTElJkW4nMXD6+fkxd+5cPv30U2pqaujv7ycsLAwfHx88PT25+uqriYmJkatwVFZWcuTIEY4ePUpDQwMnT55k3759XH311Tz00EPExcXhcDiIiIggKiqK0tJS3nrrLe677z6czqF18YqLi/Hw8JAxqVoiQMuY7N69m97eXlasWCF1Cbh6AYRBEhkZSUVFBZ6enkydOpUFCxbw/PPPc/bsWcnc3HPPPRf9vQt4enqyaNEiDh06hNFoxM/PD4PBIOMGtQyQNlFH6wHQMkWrVq1i0qRJ0qDu7OzEaDQSEBBASEgIAQEBREdHM23aNBITEyV7ePbsWSoqKti3bx9nzpzhwIEDFBQU8OGHH+Lr60taWhqzZs0iPj6e4ODgc8IZtPHQ58MVYViBa4mBwcFBtm7dyqFDhwgLC+Oaa67Bz8+PPXv2cPr0aUwmEzfccAPf//735awrMjJSBgdqZ3bucTDabWOF0+mULpakpCR8fX3p6emhuLiYpKQked/uKZqenp6sWrWKU6dOceLECQoKCvjjH//IPffcQ2pqqpwZO51OCgoK+OCDD7j77ruxWq1yxiGC2LX1q0TBs7KyMsrLy/nTn/4kOzIMNeSbb76ZQ4cO0djY6FI7Z3Bw8JyyDWOFqqoUFBRgtVqZPn06YWFhLgMwQGJiokzn7evrc2mU2uyzwcFB9u/fT21tLcuWLSMhIcGFkg0JCeHmm28mJSWF559/nsOHD7Nv3z5ee+01fvvb314yRsPhcNDa2iqD890za7SB2oKNsVgsvPvuuzgcDtasWSMNfTHAGI1GWaROxBSNVNZg8uTJLF26lI0bN/LOO+9gMBi46aabOHDgAKdPn2bp0qXSNSnkazabWbZsGc3Nzfzv//6vjJsSs8OgoCAWL15MTU0NTU1NDA4OEhkZyfHjx7HZbJSVlcnlcoT7UPQVEdcl3NirVq0iKirKZXAS+3Z3d7Nx40bee+89BgcHyczM5L777iMhIUHOsMePH88111zDO++8w9GjR2lsbJRs8+VCd3c3nZ2dmM1m0tLSWLRokXTDFBYWUlJSQkJCAg8//DBXXXUVPj4+/L//9//o7e3lww8/lOsDame27vpGy8qLvh0UFMS4ceOoqamRjBV8phcFLkRvHTlyhFdeeQU/Pz/8/Pzw9fXFbrdTX19PYWEhBQUFREVFMXPmzC9BcqNDsDyCzQ4ICOA3v/kNmZmZMm72/vvvp6+vj9OnT/Pmm29SXV1NVVUVkZGR8vjCwkICAgKYPXs2RqORpKQkxo8fT1NTExaLBRhilwcHBxk/fjyxsbHExMRgNBpZu3YtRUVFsmhzfX29i0Ei3pXZbCY1NZXY2FjS0tKw2WxyGTPRzoW73mQyERUVxfjx4/H09KS3t1fWYzKZTGRlZdHZ2UllZSX9/f2oqkpOTg6FhYUyBGDWrFksX77cxf3tnrlnsVgoKSnBbDa7hJMIaDMgDQYDoaGhOBwOgoKCmDJlCjfddBO+vr489dRTtLe389xzz9He3s4Pf/hDOWZcTBiNRqZPn86NN95IaWkp8+fPl/IT45LoD+J9aJlK8adNyJkyZQrp6en09/fLLHpvb2+p57R9T5zL19eXpKQk5s+fT3NzM/n5+eTm5lJVVcXhw4fZtm0boaGhBAcHs3DhQmbPnk1CQgJBQUGyDWhDij4PV4xh1dXVJQOEGxoa2LhxI2azmZ/85CdkZWVRX1/Pzp07ZWZMQUEBAwMDsgyDiFEQi5uKF6TtDEIoF0qBdnZ28otf/ILi4mL8/PwkA/Tee+9hNpvx9/eXbszs7GzgsyD5wMBAHn30UV566SVyc3M5evQolZWVpKamUlVVhZ+fH06nk/7+ft566y3i4uLIysrC19eX/v5+GdirjXnp7e2lqqpKxmPt3LmT6upq1qxZQ2ZmpuxQP/3pT/ntb38rM8bErPjnP/+5rBZ9IXA6nbJAoXDdCgj35pw5c5g6dSoHDhygpaWF1157jVtvvZX4+Hj8/f1lwH5OTg67du0iKSmJlStXyplkQUEBr776KvPmzWP27NmEhIRw//33U1JSQktLC7t27eJnP/uZDPa/2BCxIN3d3cTFxbm0KW2smM1mY2BggP7+fry9veno6MBsNhMaGuqiEFRVlXE5wsBtaGhgwoQJLgHKqjqUjXjrrbdSVlbGkSNH+Pvf/87JkycpKirC19dXrluoPbfRaMTb25trr72WLVu20NraSmFhoVwzzGg0kp6ezty5cwkODsbLy4ulS5eyfft2uru7eeGFF+jr62P58uWSBdUWrvX396euro5Tp07xxz/+kYcffli2BaHARNbPBx98gMlkwmazcfToUerq6pg3bx6zZs0iJSUFLy8vVq5cyZ49e+ju7qagoICEhITLlvkmBnCLxUJYWJgs/XHXXXfJkISMjAwZqA6QnZ3NggUL2LNnD9u3b+e2225j/Pjx8r2ILFgt8yTajpbx9PDwIDw8XDI7FosFT09PlwDmC2GtnE4nPT09rFmzhpkzZxIWFiZDAvbv389TTz1FY2Mjubm5F92wcjqdfPzxx3z44YckJCTws5/9jLS0NJcB8MYbb8Rut5Ofn8+7776LxWKhqqqKOXPmAEMJIG1tbURGRhIUFISqqnR0dNDa2orJZGL8+PE4HA4aGxtRFIXW1lbq6uqIjIxk0aJF7Nmzh8LCQiwWCyaTScaupqenu7wXg8HA8uXLZWhFbW2tZFe8vLyw2+3U1NTw+uuvSyZbTKhUVZW69uOPP2b37t2SoTGbzUyaNImamho6OzsxmUxkZ2dz2223ERUV5WJUuRtYvb291NbWyvVHxbVE+9EGhHt4eJCUlISnpyfBwcFcffXVmM1mrr32WjkJaG1t5e9//zuTJ0/m3nvvvajvHoaMG29vb+69916ZueyeXakdk7WeH/dAcmEoiWNFOItguLSlYLTn1JIfZrOZcePGkZCQwPXXX09nZyenT59mx44dnDlzhqqqKs6cOcObb76Jv78/qampLFiwgJSUFMaPHy8ZzM/DFWFYiY4AQ5Tvxo0baWtr4/7772fOnDmYTCbKyspobW2V7oS+vj7Onj1LREQEbW1t5OTkEBoaSmZmpgvD495I4cINq8HBQZqamrDZbHR3d8tCpfv27SM/P18yD6mpqXIA01Ka8fHxPPbYY7z55pvs3LmTs2fPUldXR0hICD/96U/p7OzkxRdfpLW1lWeeeYbVq1fLNNIdO3aQlpbGtGnT8PDwYGBggLffflvGCQwMDFBcXExZWRlPPfUUMTExZGRkMHHiRBwOh2wA2lTXkydPjri6+PkglL5gvcTgr7Xivb29iY2NxWQyyVT0Q4cOERUVRWBgIA6Hg+bmZmw2G+np6Tz44IPExMQwODiIzWbjxRdfJCcnh3379uHt7S0L3bW3t2MymWSM06VCZ2cn1dXVkq4XxpAoFNvc3ExlZSWHDx+WruFf/OIXwFCCxaFDhwgNDcVoNMrB4oMPPuDYsWN4e3tjsVh49dVXiYyMZMKECXh4eMjBGCAoKIhHHnkEgAMHDrBz506cTidTpkyR6cfe3t4uAfSKohAcHExISAhnz57lgw8+IDk5WWbdBAQEcPPNN8tFnPv6+uSEpbe3l1deeYVPP/2UG264QS7pYrVa2bNnD42NjQQFBWGxWMjJyaGyspLly5eTlZVFTEwMAwMD7Ny5kw8++ICUlBS+/e1vU1xczM6dO6mpqaG6upr33nuPiRMnMnXqVOLi4oiKipLXFvGClwOKotDe3i6ZOjGrDg4O5uGHH6avr08yHmJgCwgIYPny5ezdu5e6ujq2bNnCj370IwCX2bM2xkib/KAdCIRrpq+vD3Bd2kocN9a2bzAYWLJkCVar1cXoNZvNLFq0iM2bN3P06FFZwPhioq2tje3bt+Pt7c0PfvADud6h+yTFZDIRFxdHcHAwzc3NdHV1AZ+FDVitVoKDg+nv75exULW1tVx77bXMnTsXu91OQUEBdrudoqIifvKTnxAbG0tISAgNDQ3Y7Xbi4uLo7++no6ODP//5z6xevZo5c+YQGhoq36uQs8Ph4NixY3R1dXHNNdfIeKwdO3aQm5uLl5cXGRkZMs5OeFPS09NZsGABkZGRREdHy5jBgIAASktL2bRpEydPniQnJ4fGxka+853vEBcXh4+Pjxy3tG5j8T57enqoqqqSmYACWsJA7OPh4cGCBQuYOHGirHW4cOFC/uu//ovf/OY3DA4OyrpSlwLC1aoNmXBnYoWR6O5x0p5DOxnRtiF3z9RIhhV8ZrSJ400mE2azmaioKK666iq5AHRxcTFFRUWcOHGCAwcOsGfPHnx8fEhISCAyMpKUlJTPfd4rwrBSVZWioiK6u7v55JNP2LZtG1lZWaxcuRJvb2+XZTWE+wkgICBALu1RVVXF/fffT2pqqhSelqUSgtbGsYwVISEhZGdns3nzZjw8PIiLi6O9vZ2+vj6cTicTJkwgIiKCa665Bm9vb1nrSWvghYaG8vDDD7N48WLKysowmUykpaWRlJQk3YYvvfQSra2tvP7664SGhmK322lqauLZZ5+VzIcI8ly5ciVr1qzBYDCwc+dOtm3bJivV1tfXs2XLFux2O/Hx8dx8880UFBRw8OBBVFXlk08+4b777iMgIOCC3pOgrwcGBti1axfZ2dmEhIRIF+PAwACFhYXk5+czbdo0zGYzBQUFdHV10dvbK33q6enpLF++nIULF0rGUVVVPDw8WL58OTU1NdTX18vli/z9/Zk6dSrLly9n2bJlMh3+UkDUfzIYDFRXV1NXV8eBAwdkKvDAwICMY/P39ychIUEal21tbbzxxht89NFHeHh40NPTQ19fH2FhYTzyyCMMDg7yt7/9jfLycn7/+99z1113MX/+fAICAmRMoIiLiYiIkHXBVFWlvLycX/7yl8yZM4clS5bIAUS8i66uLlmmoqamht/97neS3k5OTsbPz08G327bto3k5GSWLl3K7t27OXHiBPn5+Zw6dQpvb29gqP+EhISwYsUKsrOzZSZhZWUlL7/8Mhs2bCAyMhKDwUBLS4t0/SUmJjJ58mTmzp1LXl4ee/fupaamhtzcXAoKCuTi0kFBQcTGxuLh4XFJDWd3WCwWGUCsdc2aTCbJIGkVtqqqZGVlMW3aNA4ePMj27dtZuXIlqampcpDWQjsb1wYnGwwGJkyYgKIodHd309/f7zKJcI9jGwuqq6t56623mDRpEitWrJCscl5eHqWlpZhMJqZOnfrFBHUBEPXWsrKymDFjhtyujR0TulrUMmtpaZH93Ol0kpeXJ+Ncn3jiCYqKioiJieHnP/852dnZcl9h+ApD/fjx4yjK0OoJixcv5rbbbuPkyZNs2LCBiooKmX04Y8YMmZkuCgIXFhaSk5PD+PHjZd1CQDK9g4ODlJSUyDEmKyuLqVOnkp2dTXR0tGzLWrfw7NmzGT9+PEePHuW9996jsLCQJ598kvDwcKZOncrSpUtlDJXWPRkaGkpFRQVvvvkmaWlpMiNQW8y3oaGBv//97xw6dIhly5axZs0azGazbIMGg4Hrr7+eiIgIPDw8LjpTqX3P7oaOe4yzdok3wbyLyuwC7qES7ucUBtZotSu1bKDYXxhpDocDb29vvLy8CA0NJSsrS7rNi4qKOHPmDIcPH6atrY2amprzPvMVY1hVVVXxt7/9jb179zJ37lweeeQROegaDAbi4uLw9fWlpaUFRVFkHMimTZsoLi5m2bJlLoGj2nOLbWK7u3I8H4xGI9deey0fffQRFotFpsLv2rWLiIgIfv3rXxMdHY2Pj490fcC5VX99fHxkcLFoPOI+rrvuOpKSkli7di2FhYU0NTVJi1wYWIqikJaWxr333iuz+pxOJ3fccQdLliyhrKyMsrIyGT8wfvx4Fi9eTFBQEG1tbaxfv57jx4+TkpIi04IvBMLVuXfvXvLy8vj9738va8TU1NRw8OBBTpw4wcyZM7n//vsJCgqSbqOGhgYiIiJISkoiLS2NkJAQl0EDhlLPb7nlFubNm0d5eTlWqxWj0Uh0dDQxMTGyttOlDG4WdYXsdju/+c1vJPUfERFBcnIyERERhIaGyqrH6enpBAcH88ADD/DSSy9RW1tLdXU1fn5+pKamkp2dzdy5c2XsiK+vLy+88AKVlZX8+c9/5qOPPiI1NRUfHx86OzspLy+X7/OGG25g0qRJlJeXyxT1HTt2sHfvXkJCQmRA7sDAAHV1ddTV1XHTTTdRX19PRUUFu3fvZvfu3fj5+REYGEh/fz+hoaHMmDGD1atXEx8fz5IlSzh69ChFRUVUVVVhtVqJiYlhwYIFTJo0SRpvkyZN4qqrrpLlMcSgGBwczD333ENGRoZ01xqNRuLj44mNjWXx4sWcPXuWs2fPcvr0aWpqaggPDycjI4Pp06fLGenlgKqqhISEyOwgbVwgjJylp6oqgYGBPPjgg5w8eZKqqipefvllfv/738sCvVrjwZ1p0P6fnJyMl5cXvb29dHR0EB0d7bLPhQSxOxwOnn32Wd5//32io6OpqqoiICCA06dPy1IE3/ve95g3b96XJb5RUVdXx+DgIOHh4Xh5ebmwMlqvgqIo9PX10d/fj9lsJikpCRjKTm1ubsZoNDJu3DhCQ0O55ZZbyMjIICQkxGUgFQP0XXfdxdy5c2lsbJRMmKg5NXHiRJKSknj//fc5efIkpaWlnD59Gg8PDxdDZNy4cVxzzTUsWbLEZeH1G2+8EYPBQHNzMx4eHsTExJCcnEzScPytgHhOEUskEBkZyQ033MDkyZPZuXMnu3bt4tChQ+zZs4e3336bRYsWsXTpUlJTU/H398dkMnHNNdeQl5dHUVERv/vd71i1ahUJCQmyxl5NTQ1bt26lt7eXlStXsnr1armChZALIIPwVVW9pMHrWpZXwL0tu/+uDQlwT4zRnmMkZsodo433og26x2SLz4iICKZPny7ZQLECSkREBOvXrx/1mZULdYtdDISEhKgiNTYjI4Pf/va3Ln5nh8NBf38/zz77LDk5OdjtdpYtW8bSpUvZt28fc+fOZe7cuZJK1WYeuVvL2gDz4ODgMd2fiIN55ZVXeOONNwgICJB0ta+vL2vXriUuLg6TyYS/v/85a1W5G3UC7lSoiL8Rg6LBYCAoKEjWFfLy8iI2NlYanFpon0tUz3YP4hNyFEulfJFim+Xl5Tz++OMUFhZiNBrx8PCQxd8CAgJYunQpq1evdsmq0MYDCMpfyyYKxSPW0NLCfWBTVVVSypcCRUVF3HjjjfT39zNu3DgyMzOZMWMGs2bNIiwsTBYH1CpOUci1tbWV1tZWuru7CQsLk9Xwtc9kt9s5fPgw77zzDsXFxQwODmK1WjGZTISGhhIZGcm4ceO4+eabSUxMxNPTk8HBQVpaWiSrVFxcLINjvb29ZV2o+fPnk5WVhdVq5dSpU5SXl1NaWorT6WT69OkEBQUxceJEoqOj5T0JVkPUUhMZa9oK+ALinVosFpfjRbyciE2Bz9xeWheHtpyD2E+02Uul9LWw2Wzk5ubyxz/+ER8fH5544gkiIiJcwgnEhEi0XTHj7evr44knnuDdd98lNDSU//u//3MJ1NcG44pPbTIDDBkgq1evpre3l7feekvG/widJljdsUwsVFXlzTff5Je//KVMQRd1g1JSUvjWt77FwoUL8fb2vugxbW+++SYvvPACEyZM4PHHHycxMdHlGYQ7urq6mq1bt7J161bmzZvHz3/+c8LDw+nq6uKBBx6Qsa5Tp06V7C0MvQOR4XfzzTdTVlbGY489xu233y7Pr41fFJ99fX00NDRQXFzM2bNn6e3tlfFuEyZMIDMzUy7HItq3Vo8Lo1lrNIxUIFbso43FEuey2+3U1taybds2Dh48SFlZGZ2dnQQEBJCWlkZmZibp6ekEBQXxz3/+kz179jAwMICnp6cMrQDw9/cnPT2dW265RYYJaHW/VtbiHry8vC6b2/3rAEVR8lRVHTFY+YpgrIRl7ePjQ1BQkIwJEI3PZrNRVVVFQ0ODDOo8dOgQp0+fZsaMGcTGxkq3iVDSijJUV8lgGFoKQCxxIJiVGTNmcO+99455gPbx8eGBBx4gIiKCrVu3Ultbi6qqpKamuqznJjrmF4WPjw9RUVFfKLh8LPhX3WiRkZE88cQTvPXWW5w6dQqLxSIZhyVLlhAXFyflrx2ItAOSGJTcS2K4Z+ho3427wrpUSEtLY8OGDcBQxqPWIHUPktQyE15eXkRHR8ulWbSuHG1cicPhYNGiRcyaNYtjx45RUVEBDMk5OTlZBnOLawpZ+vv7k5SUhM1mo6enh97eXvr7+2WhPB8fH5d4hdDQUObPny8NG21GjjYgVri9HA6HTKwQEH1J28aFMTfSgCKuPZpxoY2VELhQd9eXCRGbFhQURFRUlEyIEe9MvAPt+xP37uvry2OPPUZ4eLhcm0ws3D3as7kP1BERETz00EP4+PjIZUDcWbKxtn9FUSRrsWfPHiIiIsjIyGDSpEkEBQXJ+LpLwf6mp6djNpspLi7mP//zP5k1axahoaGEhITIrNuSkhIqKysxGo2sWrWKW2+9VYYqiKQQs9lMZGQkHh4eLjoGPnMlCsYpODjYpd+4t3FRssff31/WYwPOmZCLc2vlqtVn2tidkdqt1ujSrtMqJroi2PzBBx/k7rvvprKykvfee4/jx49z4sQJTpw4gclkkv3ZZDKRkJAgY7dE+YnMzEype7UZxuJa7i5XdxZNx5eLK4Kxmjp1qrpw4UL27t2LqqpMmzaN6dOnYzab6evro6amhrKyMgAWLFhAfn6+LNoIQ8ZCVFSUtNKFcdXR0YHVaqWnp4eOjg4Zr6KqKg888AC/+tWvxjz7GxgYQASRVlVVkZOTQ3BwMIuGK+mKgfNSL8NxOSBi1UTsm1bRubNwMDI9607pjrbt87br0PFlQmTSFRYWEh0dLVloLUYKMxDftW4FnQn4DAMDA7z66qu8/fbbcsUAYQCIoPxx48Zx1VVXcdVVV5GamorJZJJMaVNTEw8++CB2u53f//73ssiygMj0ArjvvvvIz8/nRz/6kczmdE9k0kJr9IhJh5aNBFzW1tSy71rjWjuREMdpa5e5B1lrmUvt9QRr397ezsGDBykvL6eiooKzZ89SXl5Oeno6jzzyiFySSjB32ombe4gFnOsdERMo3bj64rjiGSuDwcAjjzyCv78/O3fupKSkhJMnT8rG5+3tTWZmJrfddptcC23//v0cPHiQpqYmOjo6KCoqwmKxYLVa5WwAPvO7e3p6kpycTGBgINOnT+e+++4b82xNURSXirhTp069JEGfVyqETM/nSvw8Y2ik30bbXzeqdFwKGAxDa0HOnz//ct/K1wpeXl7cf//9ZGRkUFhYSG1trVwkWFT/nzFjhmSD3dlAoc9F5rCWTXKPiQkICJDZu2K/0fSUls3RhlJoY6PcY3uEgaQtniuMKfFd7KNlZLUGOJzLgmm3m0wmIiMjueWWW3A6nZKVLi8vZ/z48QQHB7uwZu5uTi2TrvUYaK8hAup1w+ri4IowrBRlqMDnd7/7XcaPH09ZWZlcPDgpKYkFCxZIBstgGErpv/3221mxYgXt7e3STVhdXY3VapWMla+vL6GhocTHxxMVFUVERISMKdAaSjp06NCh4+LAYDAQEBDA/PnzpTtaYCyTJqPRKMvPaBkZ93hVkSRRX19PZ2enTD4QDI2WadIaQ8L9NxK7JO5f67IVhp/WwHOvvaQ9v/YetSy+ezkFbWFQbe0zs9mMt7e3XHNV7CPKsmhDKbS/uxud2ntwd8Hr+HJxRRhWJpOJsLAwQkNDGTduHKqqynWtPm9ld1VVSUhIkCm87m5N92DFkX7ToUOHDh2XDheqewWLY7FYaGpqYuLEidKN5c7UTJo0idzcXLq6umTCz0gV1rUGh9aQch8z3I0rd5ea9jh3g0VryGmf3f3c2iQecYyIVxzJ+NGeX7gwAZekCvcwDO3zurNnOr58nNewUhRlHbACOKuq6pThbSHABiAJqALuUFW1Qxl6Y88BNwL9wP2qquaP5Ubc43PGQlHqxpEOHTp0fL3h4eGBn58fTU1NNDc3u7i63MM+pk6dSkZGBr6+vrImmTDMtAyWduxwT9AYLfZTGx+lNdC07jbttpHcfVqjSntecV1t/UPtsdrzuicyuF/f/RnEObV/l6ukyTcFY2GsXgP+Avxds+1nwC5VVZ9SFOVnw///f8ANQOrw3xzgpeFPHTp06NCh44Lh5eVFQkICDQ0NVFZWymVphCGidamlpqby05/+1IXRGimpZiTjCUaureS+3d29Ntpxo207X1LPSBiNZRrN3TcSiQLiRgAABzJJREFURvPo6PjycV4nq6qq+4B2t803A68Pf38duEWz/e/qED4FghRFif6yblaHDh06dHyzYDQamTlzJj4+PtTX18tFqt3LecBnhZjFMi4jMVCjhYaMdbuWdfq840bbNtox7ucc6fwjbR/LeUc7VsfFwReNXotUVbVx+HsTEDn8PRao1exXN7xNhw4dOnTouGAYDAYyMjKIi4vDZrPR0NAgf9ODsHVcifiXW6Q6xC9ecBScoigPKYqSqyhKbktLy796Gzp06NCh42uK4OBgZs+eTXp6ukuVfvGpMzA6riR80azAZkVRolVVbRx29Z0d3l4PxGv2ixvedg5UVX0FeAVAUZQeRVFKvuC9fNMQBrRe7pv4ikCX1digy2ns0GU1Nlw0OT3xxBMX47SXE3qbGjuuJFkljvbDFzWs3gO+DTw1/LlFs/2HiqKsZyhovUvjMvw8lIxWwVSHKxRFydVlNTboshobdDmNHbqsxgZdTmOHLqux46siq7GUW3gbWASEKYpSB/yKIYNqo6Io/wZUA3cM776VoVILZQyVW3jgItyzDh06dOjQoUPHFYnzGlaqqn5rlJ+uGWFfFfjBv3pTOnTo0KFDhw4dX0VcKekUr1zuG/gKQZfV2KHLamzQ5TR26LIaG3Q5jR26rMaOr4SsFL2svQ4dOnTo0KFDx5eDK4Wx0qFDhw4dOnTo+MrjshtWiqJcryhKiaIoZcPL43xjoShKvKIouxVFOakoSrGiKD8a3v5rRVHqFUUpGP67UXPMz4dlV6IoynWX7+4vPRRFqVIUpXBYJrnD20IURflYUZTS4c/g4e2KoijPD8vqhKIoGZf37i8NFEWZoGk3BYqidCuK8u96mxqCoijrFEU5qyhKkWbbBbchRVG+Pbx/qaIo374cz3KxMYqs/qAoyulheWxWFCVoeHuSoigDmvb1P5pjZg3327JheX7tilCNIqsL7nNf9/FxFDlt0MioSlGUguHtX502JRZ2vBx/gBEoB5IBT+A4MOly3tNllkc0kDH83R84A0wCfg38ZIT9Jw3LzAsYNyxL4+V+jksoryogzG3bM8DPhr//DHh6+PuNwDZAAeYChy/3/V8GeRkZWikhUW9T8nkXABlA0RdtQ0AIUDH8GTz8PfhyP9slktW1gGn4+9MaWSVp93M7z5Fh+SnD8rzhcj/bJZLVBfW5b8L4OJKc3H5/FvjlV61NXW7GKgsoU1W1QlVVG7CeofUGv5FQVbVRVdX84e89wCk+f0mgm4H1qqpaVVWtZKjMRdbFv9MrGvo6lqPjGqBcVdXqz9nnG9Wm1C9nLdTrgI9VVW1XVbUD+Bi4/uLf/aXFSLJSVfUjVVXtw/9+ylBR6FExLK8AVVU/VYdGxL/zmXy/NhilXY2G0frc1358/Dw5DbNOdwBvf945rsQ2dbkNK31twVGgKEoSMBM4PLzph8N0+zrhmkCXnwp8pChKnqIoDw1v09exHB134qqk9DY1Mi60DekyG8J3GGILBMYpinJMUZS9iqJkD2+LZUg+At80WV1In/umt6tsoFlV1VLNtq9Em7rchpWOEaAoih+wCfh3VVW7gZeAFGAG0MgQPaoD5quqmgHcAPxAUZQF2h+HZy962iugKIonsBL4v+FNepsaA/Q2NDYoivKfgB34x/CmRiBBVdWZwGPAW4qiBF+7tCoPe5C8O3cJ0IfmXa1OU2rMa8tuA3BYqieDBkVP1DVdV3AVRVbVZV1aGqqhN4lc9cM99o+amqWj/8eRbYzJBcmoWLT/mC61h+TXEDkK+qajPobeo8uNA29I2WmaIo9wMrgLuHDVGG3Vptw9/zGIoVSmNILlp34TdGVl+gz31j25WiKCZgFbBBbPsqtanLbVgdBVIVRRk3PKO+k6H1Br+RGPYprwVOqar6J812bSzQrYDIoHgPuFNRFC9FUcYBqQwF8X3toSiKr6Io/uI7Q0G0RXy2jiWcu47lfcOZXXMZ+zqWXxe4zP70NvW5uNA2tAO4VlGU4GH3zrXD2772UBTleuCnwEpVVfs128MVRTEOf09mqB1VDMurW1GUucP67j4+k+/XGl+gz32Tx8elwGlVVaWL7yvVpi5n5Pzw5OZGhrLfyoH/vNz3c5llMZ8ht8MJoGD470bgDaBwePt7QLTmmP8cll0JX8Psms+RVTJDWTLHgWLRdoBQYBdQCuwEQoa3K8Bfh2VV+P+3c8coCMNgGEC/"
      ]
    },
    {
      "cell_type": "code",
      "metadata": {
        "id": "NV1aE_q2eTfo"
      },
      "source": [
        "# Label Encode writer names for one hot encoding later\n",
        "encoder = LabelEncoder()\n",
        "encoder.fit(img_targets)\n",
        "encoded_Y = encoder.transform(img_targets)\n",
        "\n",
        "print(img_files[6:15], img_targets[6:15], encoded_Y[6:15])"
      ],
      "execution_count": null,
      "outputs": []
    },
    {
      "cell_type": "markdown",
      "metadata": {
        "id": "ctp8YTaCeisH"
      },
      "source": [
        "https://drive.google.com/file/d/1m8uIT5Cym3mA5wPw8Ll_jsphsNbJJ1Ez/view?usp=sharing\n",
        "https://drive.google.com/file/d/1NaLeH52euvr5HlLqHEmRmrodR1z1GBVR/view?usp=sharing\n",
        "https://drive.google.com/file/d/1lRSVEsMtIt1POG83sAyknraSBEYYaLQI/view?usp=sharing'https://drive.google.com/file/d/1LkI5osBakwg8LkYc80SiC9hKdRQeSSHo/view?usp=sharing\n"
      ]
    },
    {
      "cell_type": "markdown",
      "metadata": {
        "id": "4GpTpnIHnReh"
      },
      "source": [
        "\n",
        "**Step 4: Dividing the dataset into train, test and validation sets**.\n",
        "\n",
        "After sptlitting we have 3240 train images, 835 test and validation images each."
      ]
    },
    {
      "cell_type": "code",
      "metadata": {
        "id": "veDqac8Nex-e"
      },
      "source": [
        "#split into test train and validation in ratio 4:1:1\n",
        "\n",
        "from sklearn.model_selection import train_test_split\n",
        "train_files, rem_files, train_targets, rem_targets = train_test_split(\n",
        "        img_files, encoded_Y, train_size=0.55, random_state=30, shuffle= True)\n",
        "\n",
        "validation_files, test_files, validation_targets, test_targets = train_test_split(\n",
        "        rem_files, rem_targets, train_size=0.5, random_state=22, shuffle=True)\n",
        "\n",
        "print(train_files.shape, validation_files.shape, test_files.shape)\n",
        "print(train_targets.shape, validation_targets.shape, test_targets.shape)"
      ],
      "execution_count": null,
      "outputs": []
    },
    {
      "cell_type": "markdown",
      "metadata": {
        "id": "l6KMj0YunJxX"
      },
      "source": [
        "(3233,) (833,) (833,)\n",
        "(3233,) (833,) (833,)"
      ]
    },
    {
      "cell_type": "markdown",
      "metadata": {
        "id": "ubJFZq7SnFDh"
      },
      "source": [
        "(3233,) (833,) (833,)\n",
        "(3233,) (833,) (833,)\n"
      ]
    },
    {
      "cell_type": "code",
      "metadata": {
        "id": "nPZUikBifJAo"
      },
      "source": [
        "batch_size = 16\n",
        "num_classes = 50\n",
        "\n",
        "\n",
        "def generate_data(samples, target_files,  batch_size=batch_size, factor = 0.1 ):\n",
        "    num_samples = len(samples)\n",
        "    from sklearn.utils import shuffle\n",
        "    while 1: # Loop forever so the generator never terminates\n",
        " \n",
        "        for offset in range(0, num_samples, batch_size):\n",
        "            batch_samples = samples[offset:offset+batch_size]\n",
        "            batch_targets = target_files[offset:offset+batch_size]\n",
        "\n",
        "            images = []\n",
        "            targets = []\n",
        "            for i in range(len(batch_samples)):\n",
        "                batch_sample = batch_samples[i]\n",
        "                batch_target = batch_targets[i]\n",
        "                im = Image.open(batch_sample)\n",
        "                cur_width = im.size[0]\n",
        "                cur_height = im.size[1]\n",
        "\n",
        "                \n",
        "                height_fac = 113 / cur_height\n",
        "\n",
        "                new_width = int(cur_width * height_fac)\n",
        "                size = new_width, 113\n",
        "\n",
        "                imresize = im.resize((size), Image.ANTIALIAS)  \n",
        "                now_width = imresize.size[0]\n",
        "                now_height = imresize.size[1]\n",
        "                \n",
        "\n",
        "                avail_x_points = list(range(0, now_width - 113 ))\n",
        "\n",
        "            \n",
        "                pick_num = int(len(avail_x_points)*factor)\n",
        "\n",
        "              \n",
        "                random_startx = sample(avail_x_points,  pick_num)\n",
        "\n",
        "                for start in random_startx:\n",
        "                    imcrop = imresize.crop((start, 0, start+113, 113))\n",
        "                    images.append(np.asarray(imcrop))\n",
        "                    targets.append(batch_target)\n",
        "\n",
        "            \n",
        "            X_train = np.array(images)\n",
        "            y_train = np.array(targets)\n",
        "\n",
        "           \n",
        "            X_train = X_train.reshape(X_train.shape[0], 113, 113, 1)\n",
        "           \n",
        "            X_train = X_train.astype('float32')\n",
        "            X_train /= 255\n",
        "\n",
        "         \n",
        "            y_train = to_categorical(y_train, num_classes)\n",
        "\n",
        "            yield shuffle(X_train, y_train)"
      ],
      "execution_count": null,
      "outputs": []
    },
    {
      "cell_type": "code",
      "metadata": {
        "id": "AZz4xkEJeZ7E"
      },
      "source": [
        "# Generate data for training and validation\n",
        "train_generator = generate_data(train_test_split, train_targets, batch_size=batch_size, factor = 0.3)\n",
        "validation_generator = generate_data(validation_files, validation_targets, batch_size=batch_size, factor = 0.3)\n",
        "test_generator = generate_data(test_files, test_targets, batch_size=batch_size, factor = 0.1)"
      ],
      "execution_count": null,
      "outputs": []
    },
    {
      "cell_type": "markdown",
      "metadata": {
        "id": "JpeBPoGpn4KA"
      },
      "source": [
        "### **Step 5: Creating the defining the model/network architecture**.\n",
        "Adding the Pooling Layers, CNN Layers, Activation Functions, etc."
      ]
    },
    {
      "cell_type": "code",
      "metadata": {
        "id": "ripWEUPLf3BG"
      },
      "source": [
        "def resize_image(image):\n",
        "    import tensorflow as tf\n",
        "    return tf.image.resize_images(image,[56,56])\n",
        "\n",
        "\n",
        "row, col, ch = 113, 113, 1\n",
        "\n",
        "model = Sequential()\n",
        "model.add(ZeroPadding2D((1, 1), input_shape=(row, col, ch)))\n",
        "\n",
        "\n",
        "#model.add(Lambda(resize_image)) \n",
        "#model.add(Lambda(lambda x: resize_image))\n",
        "\n",
        "\n",
        "model.add(Convolution2D(filters= 32, kernel_size =(5,5), strides= (2,2), padding='same', name='conv1')) \n",
        "model.add(Activation('relu'))\n",
        "model.add(MaxPooling2D(pool_size=(2,2),strides=(2,2), name='pool1'))\n",
        "\n",
        "model.add(Convolution2D(filters= 64, kernel_size =(3,3), strides= (1,1), padding='same', name='conv2'))  \n",
        "model.add(Activation('relu'))\n",
        "model.add(MaxPooling2D(pool_size=(2,2),strides=(2,2), name='pool2'))\n",
        "\n",
        "model.add(Convolution2D(filters= 128, kernel_size =(3,3), strides= (1,1), padding='same', name='conv3')) \n",
        "model.add(Activation('relu'))\n",
        "model.add(MaxPooling2D(pool_size=(2,2),strides=(2,2), name='pool3'))\n",
        "\n",
        "\n",
        "model.add(Flatten())\n",
        "model.add(Dropout(0.5))\n",
        "\n",
        "model.add(Dense(512, name='dense1'))  \n",
        "\n",
        "model.add(Activation('relu'))\n",
        "model.add(Dropout(0.5))\n",
        "\n",
        "model.add(Dense(256, name='dense2'))  \n",
        "model.add(Activation('relu'))\n",
        "model.add(Dropout(0.5))\n",
        "\n",
        "model.add(Dense(num_classes,name='output'))\n",
        "model.add(Activation('softmax'))\n",
        "model.compile(loss='categorical_crossentropy', optimizer=Adam(), metrics=['accuracy'])\n",
        "print(model.summary())"
      ],
      "execution_count": null,
      "outputs": []
    },
    {
      "cell_type": "markdown",
      "metadata": {
        "id": "Ui7bYAXlgzVR"
      },
      "source": [
        "\n",
        "Model: \"sequential\"\n",
        "_________________________________________________________________\n",
        "Layer (type)                 Output Shape              Param #   \n",
        "=================================================================\n",
        "zero_padding2d (ZeroPadding2 (None, 115, 115, 1)       0         \n",
        "_________________________________________________________________\n",
        "conv1 (Conv2D)               (None, 58, 58, 32)        832       \n",
        "_________________________________________________________________\n",
        "activation (Activation)      (None, 58, 58, 32)        0         \n",
        "_________________________________________________________________\n",
        "pool1 (MaxPooling2D)         (None, 29, 29, 32)        0         \n",
        "_________________________________________________________________\n",
        "conv2 (Conv2D)               (None, 29, 29, 64)        18496     \n",
        "_________________________________________________________________\n",
        "activation_1 (Activation)    (None, 29, 29, 64)        0         \n",
        "_________________________________________________________________\n",
        "pool2 (MaxPooling2D)         (None, 14, 14, 64)        0         \n",
        "_________________________________________________________________\n",
        "conv3 (Conv2D)               (None, 14, 14, 128)       73856     \n",
        "_________________________________________________________________\n",
        "activation_2 (Activation)    (None, 14, 14, 128)       0         \n",
        "_________________________________________________________________\n",
        "pool3 (MaxPooling2D)         (None, 7, 7, 128)         0         \n",
        "_________________________________________________________________\n",
        "flatten (Flatten)            (None, 6272)              0         \n",
        "_________________________________________________________________\n",
        "dropout (Dropout)            (None, 6272)              0         \n",
        "_________________________________________________________________\n",
        "dense1 (Dense)               (None, 512)               3211776   \n",
        "_________________________________________________________________\n",
        "activation_3 (Activation)    (None, 512)               0         \n",
        "_________________________________________________________________\n",
        "dropout_1 (Dropout)          (None, 512)               0         \n",
        "_________________________________________________________________\n",
        "dense2 (Dense)               (None, 256)               131328    \n",
        "_________________________________________________________________\n",
        "activation_4 (Activation)    (None, 256)               0         \n",
        "_________________________________________________________________\n",
        "dropout_2 (Dropout)          (None, 256)               0         \n",
        "_________________________________________________________________\n",
        "output (Dense)               (None, 50)                12850     \n",
        "_________________________________________________________________\n",
        "activation_5 (Activation)    (None, 50)                0         \n",
        "=================================================================\n",
        "Total params: 3,449,138\n",
        "Trainable params: 3,449,138\n",
        "Non-trainable params: 0\n",
        "_________________________________________________________________\n",
        "None"
      ]
    },
    {
      "cell_type": "markdown",
      "metadata": {
        "id": "oc3diGznoYAZ"
      },
      "source": [
        "## **Step 6: Training the model**.\n",
        "Using 4 epochs of 3000 train samples and 280 val samples"
      ]
    },
    {
      "cell_type": "code",
      "metadata": {
        "id": "nD1hWTfAg3Ao"
      },
      "source": [
        "# Training the model \n",
        "\n",
        "nb_epoch = 4\n",
        "\n",
        "samples_per_epoch = 3000\n",
        "nb_val_samples = 280\n",
        "\n",
        "\n",
        "\n",
        "from keras.callbacks import ModelCheckpoint\n",
        "filepath=\"gdrive/My Drive/check-{epoch:02d}-{val_loss:.4f}.hdf5\"\n",
        "checkpoint = ModelCheckpoint(filepath= filepath, verbose=1, save_best_only=False)\n",
        "callbacks_list = [checkpoint]\n",
        "\n",
        "\n",
        "history_object = model.fit_generator(train_generator, samples_per_epoch= samples_per_epoch,\n",
        "                                     validation_data=validation_generator,\n",
        "                                     nb_val_samples=nb_val_samples, nb_epoch=nb_epoch, verbose=1, callbacks=callbacks_list)"
      ],
      "execution_count": null,
      "outputs": []
    },
    {
      "cell_type": "markdown",
      "metadata": {
        "id": "1UBN-64XhKrE"
      },
      "source": [
        "\n",
        "/usr/local/lib/python3.6/dist-packages/ipykernel_launcher.py:18: UserWarning: The semantics of the Keras 2 argument `steps_per_epoch` is not the same as the Keras 1 argument `samples_per_epoch`. `steps_per_epoch` is the number of batches to draw from the generator at each epoch. Basically steps_per_epoch = samples_per_epoch/batch_size. Similarly `nb_val_samples`->`validation_steps` and `val_samples`->`steps` arguments have changed. Update your method calls accordingly.\n",
        "/usr/local/lib/python3.6/dist-packages/ipykernel_launcher.py:18: UserWarning: Update your `fit_generator` call to the Keras 2 API: `fit_generator(<generator..., validation_data=<generator..., verbose=1, callbacks=[<keras.ca..., steps_per_epoch=3000, epochs=4, validation_steps=280)`\n",
        "Epoch 1/4\n",
        "3000/3000 [==============================] - 2754s 918ms/step - loss: 1.5004 - accuracy: 0.5691 - val_loss: 0.7522 - val_accuracy: 0.8088\n",
        "\n",
        "Epoch 00001: saving model to gdrive/My Drive/check-01-0.7522.hdf5\n",
        "Epoch 2/4\n",
        "3000/3000 [==============================] - 1733s 578ms/step - loss: 0.5590 - accuracy: 0.8275 - val_loss: 0.3776 - val_accuracy: 0.8817\n",
        "\n",
        "Epoch 00002: saving model to gdrive/My Drive/check-02-0.3776.hdf5\n",
        "Epoch 3/4\n",
        "3000/3000 [==============================] - 1740s 580ms/step - loss: 0.3559 - accuracy: 0.8892 - val_loss: 0.5537 - val_accuracy: 0.8952\n",
        "\n",
        "Epoch 00003: saving model to gdrive/My Drive/check-03-0.5537.hdf5\n",
        "Epoch 4/4\n",
        "3000/3000 [==============================] - 1779s 593ms/step - loss: 0.2617 - accuracy: 0.9183 - val_loss: 0.1937 - val_accuracy: 0.9197\n",
        "\n",
        "Epoch 00004: saving model to gdrive/My Drive/check-04-0.1937.hdf5"
      ]
    },
    {
      "cell_type": "markdown",
      "metadata": {
        "id": "0iC96vgvotje"
      },
      "source": [
        "## **Step 7: Saving the model**.\n",
        "Saving the model using HDF5 file extension"
      ]
    },
    {
      "cell_type": "code",
      "metadata": {
        "id": "kZXqeJ0QhPh4"
      },
      "source": [
        "\n",
        "#Saving the model and weights into GDrive\n",
        "\n",
        "from keras.models import model_from_json   \n",
        "# serialize model to JSON\n",
        "model_json = model.to_json()\n",
        "with open(\"gdrive/My Drive/TCS Internship/Model/HTR_Model.json\", \"w\") as json_file:\n",
        "    json_file.write(model_json)\n",
        "# serialize weights to HDF5\n",
        "model.save_weights(\"gdrive/My Drive/TCS Internship/Model/HTR_model_weights.hdf5\")\n",
        "print(\"Saved model to GDrive\")"
      ],
      "execution_count": null,
      "outputs": []
    },
    {
      "cell_type": "markdown",
      "metadata": {
        "id": "BP2JBnsHo1_w"
      },
      "source": [
        "Saved model to GDrive"
      ]
    },
    {
      "cell_type": "code",
      "metadata": {
        "colab": {
          "base_uri": "https://localhost:8080/",
          "height": 229
        },
        "id": "fFx4dPhLhkHA",
        "outputId": "5976f9d6-65ff-44a8-ed3d-2a4e99fb6c55"
      },
      "source": [
        "#Loading json and weights to recover model\n",
        "import tensorflow as tf\n",
        "json_file = open(\"https://drive.google.com/drive/folders/1jTK1mPgJqy75Th_apkwusACNE54OTUjv?usp=sharing\", 'r')\n",
        "loaded_model_json = json_file.read()\n",
        "json_file.close()\n",
        "l_model = tf.keras.models.model_from_json(loaded_model_json)\n",
        "# load weights into new model\n",
        "l_model.load_weights(\"gdrive/My Drive/TCS Internship/Model/HTR_model_weights.hdf5\")\n",
        "print(\"Loaded model from Gdrive\")"
      ],
      "execution_count": null,
      "outputs": [
        {
          "output_type": "error",
          "ename": "FileNotFoundError",
          "evalue": "ignored",
          "traceback": [
            "\u001b[0;31m---------------------------------------------------------------------------\u001b[0m",
            "\u001b[0;31mFileNotFoundError\u001b[0m                         Traceback (most recent call last)",
            "\u001b[0;32m<ipython-input-44-061825f630f5>\u001b[0m in \u001b[0;36m<module>\u001b[0;34m()\u001b[0m\n\u001b[1;32m      1\u001b[0m \u001b[0;31m#Loading json and weights to recover model\u001b[0m\u001b[0;34m\u001b[0m\u001b[0;34m\u001b[0m\u001b[0;34m\u001b[0m\u001b[0m\n\u001b[1;32m      2\u001b[0m \u001b[0;32mimport\u001b[0m \u001b[0mtensorflow\u001b[0m \u001b[0;32mas\u001b[0m \u001b[0mtf\u001b[0m\u001b[0;34m\u001b[0m\u001b[0;34m\u001b[0m\u001b[0m\n\u001b[0;32m----> 3\u001b[0;31m \u001b[0mjson_file\u001b[0m \u001b[0;34m=\u001b[0m \u001b[0mopen\u001b[0m\u001b[0;34m(\u001b[0m\u001b[0;34m\"https://drive.google.com/drive/folders/1jTK1mPgJqy75Th_apkwusACNE54OTUjv?usp=sharing\"\u001b[0m\u001b[0;34m,\u001b[0m \u001b[0;34m'r'\u001b[0m\u001b[0;34m)\u001b[0m\u001b[0;34m\u001b[0m\u001b[0;34m\u001b[0m\u001b[0m\n\u001b[0m\u001b[1;32m      4\u001b[0m \u001b[0mloaded_model_json\u001b[0m \u001b[0;34m=\u001b[0m \u001b[0mjson_file\u001b[0m\u001b[0;34m.\u001b[0m\u001b[0mread\u001b[0m\u001b[0;34m(\u001b[0m\u001b[0;34m)\u001b[0m\u001b[0;34m\u001b[0m\u001b[0;34m\u001b[0m\u001b[0m\n\u001b[1;32m      5\u001b[0m \u001b[0mjson_file\u001b[0m\u001b[0;34m.\u001b[0m\u001b[0mclose\u001b[0m\u001b[0;34m(\u001b[0m\u001b[0;34m)\u001b[0m\u001b[0;34m\u001b[0m\u001b[0;34m\u001b[0m\u001b[0m\n",
            "\u001b[0;31mFileNotFoundError\u001b[0m: [Errno 2] No such file or directory: 'https://drive.google.com/drive/folders/1jTK1mPgJqy75Th_apkwusACNE54OTUjv?usp=sharing'"
          ]
        }
      ]
    },
    {
      "cell_type": "code",
      "metadata": {
        "colab": {
          "base_uri": "https://localhost:8080/",
          "height": 178
        },
        "id": "wAmw0Atsh-TZ",
        "outputId": "643a838a-18bc-4cda-b126-3b5a91335d36"
      },
      "source": [
        "model.save(\"\")\n",
        "print(\"Saved Keras Model\")"
      ],
      "execution_count": null,
      "outputs": [
        {
          "output_type": "error",
          "ename": "NameError",
          "evalue": "ignored",
          "traceback": [
            "\u001b[0;31m---------------------------------------------------------------------------\u001b[0m",
            "\u001b[0;31mNameError\u001b[0m                                 Traceback (most recent call last)",
            "\u001b[0;32m<ipython-input-29-52b55118746c>\u001b[0m in \u001b[0;36m<module>\u001b[0;34m()\u001b[0m\n\u001b[0;32m----> 1\u001b[0;31m \u001b[0mmodel\u001b[0m\u001b[0;34m.\u001b[0m\u001b[0msave\u001b[0m\u001b[0;34m(\u001b[0m\u001b[0;34m\"gdrive/My Drive/TCS Internship/Model/HTR_model.hdf5\"\u001b[0m\u001b[0;34m)\u001b[0m\u001b[0;34m\u001b[0m\u001b[0;34m\u001b[0m\u001b[0m\n\u001b[0m\u001b[1;32m      2\u001b[0m \u001b[0mprint\u001b[0m\u001b[0;34m(\u001b[0m\u001b[0;34m\"Saved Keras Model\"\u001b[0m\u001b[0;34m)\u001b[0m\u001b[0;34m\u001b[0m\u001b[0;34m\u001b[0m\u001b[0m\n",
            "\u001b[0;31mNameError\u001b[0m: name 'model' is not defined"
          ]
        }
      ]
    },
    {
      "cell_type": "code",
      "metadata": {
        "id": "0QCO2JCCihvd"
      },
      "source": [
        "#from keras.models import load_model\n",
        "# load model\n",
        "from tensorflow import keras\n",
        "loaded_model = keras.models.load_model(\"gdrive/My Drive/TCS Internship/Model/HTR_model.hdf5\", custom_objects=None, compile=True, options=None)\n",
        "print(\"Loaded the Keras Model\")"
      ],
      "execution_count": null,
      "outputs": []
    },
    {
      "cell_type": "code",
      "metadata": {
        "id": "yH1K89O2iuMy"
      },
      "source": [
        "print(loaded_model.summary())"
      ],
      "execution_count": null,
      "outputs": []
    },
    {
      "cell_type": "markdown",
      "metadata": {
        "id": "3ap1Z0xWi4A1"
      },
      "source": [
        "\n",
        "Model: \"sequential\"\n",
        "_________________________________________________________________\n",
        "Layer (type)                 Output Shape              Param #   \n",
        "=================================================================\n",
        "zero_padding2d (ZeroPadding2 (None, 115, 115, 1)       0         \n",
        "_________________________________________________________________\n",
        "conv1 (Conv2D)               (None, 58, 58, 32)        832       \n",
        "_________________________________________________________________\n",
        "activation (Activation)      (None, 58, 58, 32)        0         \n",
        "_________________________________________________________________\n",
        "pool1 (MaxPooling2D)         (None, 29, 29, 32)        0         \n",
        "_________________________________________________________________\n",
        "conv2 (Conv2D)               (None, 29, 29, 64)        18496     \n",
        "_________________________________________________________________\n",
        "activation_1 (Activation)    (None, 29, 29, 64)        0         \n",
        "_________________________________________________________________\n",
        "pool2 (MaxPooling2D)         (None, 14, 14, 64)        0         \n",
        "_________________________________________________________________\n",
        "conv3 (Conv2D)               (None, 14, 14, 128)       73856     \n",
        "_________________________________________________________________\n",
        "activation_2 (Activation)    (None, 14, 14, 128)       0         \n",
        "_________________________________________________________________\n",
        "pool3 (MaxPooling2D)         (None, 7, 7, 128)         0         \n",
        "_________________________________________________________________\n",
        "flatten (Flatten)            (None, 6272)              0         \n",
        "_________________________________________________________________\n",
        "dropout (Dropout)            (None, 6272)              0         \n",
        "_________________________________________________________________\n",
        "dense1 (Dense)               (None, 512)               3211776   \n",
        "_________________________________________________________________\n",
        "activation_3 (Activation)    (None, 512)               0         \n",
        "_________________________________________________________________\n",
        "dropout_1 (Dropout)          (None, 512)               0         \n",
        "_________________________________________________________________\n",
        "dense2 (Dense)               (None, 256)               131328    \n",
        "_________________________________________________________________\n",
        "activation_4 (Activation)    (None, 256)               0         \n",
        "_________________________________________________________________\n",
        "dropout_2 (Dropout)          (None, 256)               0         \n",
        "_________________________________________________________________\n",
        "output (Dense)               (None, 50)                12850     \n",
        "_________________________________________________________________\n",
        "activation_5 (Activation)    (None, 50)                0         \n",
        "=================================================================\n",
        "Total params: 3,449,138\n",
        "Trainable params: 3,449,138\n",
        "Non-trainable params: 0\n",
        "_________________________________________________________________\n",
        "None"
      ]
    },
    {
      "cell_type": "markdown",
      "metadata": {
        "id": "gh4QXeVspWeQ"
      },
      "source": [
        "### **Step 8: Testing the model.**"
      ]
    },
    {
      "cell_type": "code",
      "metadata": {
        "id": "I8On_uJNi7Cs"
      },
      "source": [
        "#model.load_weights('gdrive/My Drive/check-04-0.2584.hdf5')\n",
        "scores = model.evaluate_generator(test_generator,280) \n",
        "print(\"Accuracy = \", scores[1])"
      ],
      "execution_count": null,
      "outputs": []
    },
    {
      "cell_type": "markdown",
      "metadata": {
        "id": "VFGoFcprjJwl"
      },
      "source": [
        "Accuracy =  0.9174939393997192"
      ]
    },
    {
      "cell_type": "markdown",
      "metadata": {
        "id": "MualseOApj2T"
      },
      "source": [
        "### **Step 9: Prediction**.\n",
        "Prediction being done on Test Files"
      ]
    },
    {
      "cell_type": "code",
      "metadata": {
        "id": "ta9bS03-jM0c"
      },
      "source": [
        "images = []\n",
        "for filename in test_files[:50]:\n",
        "    im = Image.open(filename)\n",
        "    cur_width = im.size[0]\n",
        "    cur_height = im.size[1]\n",
        "\n",
        "   \n",
        "    height_fac = 113 / cur_height\n",
        "\n",
        "    new_width = int(cur_width * height_fac)\n",
        "    size = new_width, 113\n",
        "\n",
        "    imresize = im.resize((size), Image.ANTIALIAS)  \n",
        "    now_width = imresize.size[0]\n",
        "    now_height = imresize.size[1]\n",
        "\n",
        "\n",
        "    avail_x_points = list(range(0, now_width - 113 ))\n",
        "\n",
        "    \n",
        "    factor = 0.1\n",
        "    pick_num = int(len(avail_x_points)*factor)\n",
        "    \n",
        "    random_startx = sample(avail_x_points,  pick_num)\n",
        "\n",
        "    for start in random_startx:\n",
        "        imcrop = imresize.crop((start, 0, start+113, 113))\n",
        "        images.append(np.asarray(imcrop))\n",
        "        \n",
        "    X_test = np.array(images)\n",
        "    \n",
        "    X_test = X_test.reshape(X_test.shape[0], 113, 113, 1)\n",
        "   \n",
        "    X_test = X_test.astype('float32')\n",
        "    X_test /= 255\n",
        "    shuffle(X_test)\n",
        "\n",
        "print(X_test.shape)"
      ],
      "execution_count": null,
      "outputs": []
    },
    {
      "cell_type": "markdown",
      "metadata": {
        "id": "uQTEyTKmjVCc"
      },
      "source": [
        "(6264, 113, 113, 1)"
      ]
    },
    {
      "cell_type": "code",
      "metadata": {
        "id": "oH36TfgsjYGk"
      },
      "source": [
        "predictions = loaded_model.predict(X_test, verbose =1)\n",
        "\n",
        "print(predictions.shape)\n",
        "predicted_writer = []\n",
        "for pred in predictions:\n",
        "    predicted_writer.append(np.argmax(pred))\n",
        "print(len(predicted_writer))"
      ],
      "execution_count": null,
      "outputs": []
    },
    {
      "cell_type": "markdown",
      "metadata": {
        "id": "OHhCJvvbjeMk"
      },
      "source": [
        "196/196 [==============================] - 1s 5ms/step\n",
        "\n",
        "(6264, 50)\n",
        "\n",
        "6264"
      ]
    },
    {
      "cell_type": "code",
      "metadata": {
        "id": "QMYeu7JLjlaw"
      },
      "source": [
        "writer_number = 18\n",
        "total_images =10\n",
        "counter = 0\n",
        "for i in range(len(predicted_writer)//10):\n",
        "    if predicted_writer[i] == writer_number:\n",
        "        image = X_test[i].squeeze()\n",
        "        plt.figure(figsize=(2,2))\n",
        "        plt.imshow(image, cmap ='gray')"
      ],
      "execution_count": null,
      "outputs": []
    },
    {
      "cell_type": "code",
      "metadata": {
        "id": "NR7DjgbjjiG-"
      },
      "source": [
        "writer_number = 18\n",
        "total_images =10\n",
        "counter = 0\n",
        "print(\"Anirudh Goel\")\n",
        "for i in range(len(predicted_writer)//10):\n",
        "    if predicted_writer[i] == writer_number:\n",
        "        image = X_test[i].squeeze()\n",
        "        plt.figure(figsize=(2,2))\n",
        "        plt.imshow(image, cmap ='gray')\n",
        "        plt.show()"
      ],
      "execution_count": null,
      "outputs": []
    },
    {
      "cell_type": "markdown",
      "metadata": {
        "id": "aPKRl1_Hp_NT"
      },
      "source": [
        "### **Step 10: Plotting the loss and accuracy plots**."
      ]
    },
    {
      "cell_type": "code",
      "metadata": {
        "id": "4mJHza5Fj69e"
      },
      "source": [
        "def plotgraph(epochs, acc, val_acc):\n",
        "    # Plot training & validation accuracy values\n",
        "    plt.plot(epochs, acc, 'b')\n",
        "    plt.plot(epochs, val_acc, 'r')\n",
        "    plt.title('Model accuracy')\n",
        "    plt.ylabel('Accuracy')\n",
        "    plt.xlabel('Epoch')\n",
        "    plt.legend(['Train', 'Val'], loc='upper left')\n",
        "    plt.show()"
      ],
      "execution_count": null,
      "outputs": []
    },
    {
      "cell_type": "code",
      "metadata": {
        "id": "NVr1jaDkkDer"
      },
      "source": [
        "cc = history_object.history['accuracy']\n",
        "val_acc = history_object.history['val_accuracy']\n",
        "loss = history_object.history['loss']\n",
        "val_loss = history_object.history['val_loss']\n",
        "epochs = range(1,len(loss)+1)"
      ],
      "execution_count": null,
      "outputs": []
    },
    {
      "cell_type": "markdown",
      "metadata": {
        "id": "7Pdwz3ksqN_C"
      },
      "source": [
        "### **Loss vs Epochs Graph**\n",
        "It shows deacrease in loss over epochs"
      ]
    },
    {
      "cell_type": "markdown",
      "metadata": {
        "id": "RIBunrvOrYxN"
      },
      "source": [
        "\n",
        "### **Loss vs Epochs Graph**\n",
        "It shows deacrease in loss over epochs."
      ]
    },
    {
      "cell_type": "code",
      "metadata": {
        "id": "9jKHSJ5fkNow"
      },
      "source": [
        "plotgraph(epochs, loss, val_loss)"
      ],
      "execution_count": null,
      "outputs": []
    },
    {
      "cell_type": "markdown",
      "metadata": {
        "id": "pBX83W6LlwmB"
      },
      "source": [
        ""
      ]
    },
    {
      "cell_type": "markdown",
      "metadata": {
        "id": "FrQ4S9wUkTCv"
      },
      "source": [
        "![graph.png](data:image/png;base64,iVBORw0KGgoAAAANSUhEUgAAAYIAAAEWCAYAAABrDZDcAAAABHNCSVQICAgIfAhkiAAAAAlwSFlzAAALEgAACxIB0t1+/AAAADh0RVh0U29mdHdhcmUAbWF0cGxvdGxpYiB2ZXJzaW9uMy4yLjIsIGh0dHA6Ly9tYXRwbG90bGliLm9yZy+WH4yJAAAgAElEQVR4nO3dd5gUddLA8W+xhEWCpFWRLEGCAXQFxQSCHgZAXyOHAROHyhkRjBhRPBTTqSciZkXU8wQTisApJyigiIigSBAUBVYlSli23j9qxl3WDbOwPT2hPs8zjzPdPTPVO9jVvyyqinPOufRVIewAnHPOhcsTgXPOpTlPBM45l+Y8ETjnXJrzROCcc2nOE4FzzqU5TwQubYhIUxFREakYw7H9RGRaPOJyLmyeCFxCEpGlIrJVROoV2v555GLeNJzInEs9nghcIlsC9Im+EJH9gd3CCycxxFKica4sPBG4RPYccG6B1+cBzxY8QER2F5FnRWS1iCwTkZtEpEJkX4aI3Csia0RkMXBiEe99UkRWisgPInKniGTEEpiIvCIiP4nIWhH5UETaFdhXVUTui8SzVkSmiUjVyL4jRORjEflNRJaLSL/I9qkiclGBz9ihaipSCrpMRL4Fvo1sezDyGetEZLaIHFng+AwRuUFEvhOR9ZH9jUTkERG5r9C5jBeRq2I5b5eaPBG4RDYDqCkibSIX6LOA5wsd8zCwO7APcDSWOM6P7LsYOAnoAGQDpxV679NALtAicsxxwEXE5h2gJbAH8BnwQoF99wIHA52BOsBgIE9EmkTe9zCQBbQH5sT4fQAnA52AtpHXMyOfUQd4EXhFRDIj+67GSlMnADWBC4BNwDNAnwLJsh7QPfJ+l65U1R/+SLgHsBS7QN0E3A30AN4HKgIKNAUygK1A2wLv+xswNfJ8MjCgwL7jIu+tCOwJbAGqFtjfB5gSed4PmBZjrLUin7s7dnP1O3BgEcddD7xezGdMBS4q8HqH7498/jGlxPFr9HuBhUDvYo77Gjg28nwg8HbYv7c/wn14XaNLdM8BHwLNKFQtBNQDKgHLCmxbBjSIPN8bWF5oX1STyHtXikh0W4VCxxcpUjoZBpyO3dnnFYinCpAJfFfEWxsVsz1WO8QmIoOAC7HzVOzOP9q4XtJ3PQOcjSXWs4EHdyEmlwK8asglNFVdhjUanwD8u9DuNcA27KIe1Rj4IfJ8JXZBLLgvajlWIqinqrUij5qq2o7S/RXojZVYdsdKJwASiWkz0LyI9y0vZjvARnZsCN+riGP+mCo40h4wGDgDqK2qtYC1kRhK+67ngd4iciDQBvhPMce5NOGJwCWDC7FqkY0FN6rqdmAcMExEakTq4K8mvx1hHHC5iDQUkdrAdQXeuxJ4D7hPRGqKSAURaS4iR8cQTw0sieRgF++7CnxuHjAGGCkie0cabQ8TkSpYO0J3ETlDRCqKSF0RaR956xzg/0RkNxFpETnn0mLIBVYDFUVkKFYiiBoN3CEiLcUcICJ1IzGuwNoXngNeU9XfYzhnl8I8EbiEp6rfqeqsYnb/HbubXgxMwxo9x0T2PQFMBL7AGnQLlyjOBSoD87H69VeB+jGE9CxWzfRD5L0zCu0fBHyJXWx/Ae4BKqjq91jJ5prI9jnAgZH33I+1d/yMVd28QMkmAu8C30Ri2cyOVUcjsUT4HrAOeBKoWmD/M8D+WDJwaU5UfWEa59KNiByFlZyaqF8E0p6XCJxLMyJSCbgCGO1JwIEnAufSioi0AX7DqsAeCDkclyC8asg559Kclwiccy7NJd2Asnr16mnTpk3DDsM555LK7Nmz16hqVlH7ki4RNG3alFmziutJ6Jxzrigisqy4fV415Jxzac4TgXPOpTlPBM45l+aSro2gKNu2bWPFihVs3rw57FACl5mZScOGDalUqVLYoTjnUkRKJIIVK1ZQo0YNmjZtSoEphVOOqpKTk8OKFSto1qxZ2OE451JESlQNbd68mbp166Z0EgAQEerWrZsWJR/nXPykRCIAUj4JRKXLeTrn4idlEkFptm6F77+HvLzSj3XOuXSSNolg40ZYtQpWriz/z87JyaF9+/a0b9+evfbaiwYNGvzxeuvWrSW+d9asWVx++eXlH5RzzsUoJRqLY1G7NtSrZ4mgZk2oUaP8Prtu3brMmTMHgFtvvZXq1aszaNCgP/bn5uZSsWLRf+rs7Gyys7PLLxjnnCujtCkRADRqBFWqwJIlkJsb7Hf169ePAQMG0KlTJwYPHsynn37KYYcdRocOHejcuTMLFy4EYOrUqZx00kmAJZELLriALl26sM8++/DQQw8FG6RzzpGCJYIrr4TIzXmRtm+HTZugYkWoWrX44wpq3x4e2ImZ21esWMHHH39MRkYG69at46OPPqJixYpMmjSJG264gddee+1P71mwYAFTpkxh/fr17LvvvlxyySU+ZsA5F6iUSwSlyciwUsGWLbBtGwR5jT399NPJyMgAYO3atZx33nl8++23iAjbtm0r8j0nnngiVapUoUqVKuyxxx78/PPPNGzYMLggnXNpL+USQSx37qqwcKGVDNq2hczMYGKpVq3aH89vvvlmunbtyuuvv87SpUvp0qVLke+pUqXKH88zMjLIDboOyzmX9tKqjSBKBJo1s/8uWWKJIWhr166lQYMGADz99NPBf6FzzsUoLRMBWPVQkybWrTSILqWFDR48mOuvv54OHTr4Xb5zLqEk3ZrF2dnZWnhhmq+//po2bdrs1OctWQI5OdC6NVSvXh4RBm9Xztc5l55EZLaqFtlXPW1LBFGNG1vpYPHi4LuUOudcIkr7RJCRYe0F0SkonHMu3QSWCERkjIisEpF5pRx3iIjkishpQcVSmurVYe+94ZdfrJrIOefSSZAlgqeBHiUdICIZwD3AewHGEZP69S0hfP+9jTFwzrl0EVgiUNUPgV9KOezvwGvAqqDiiFW0SynEr0upc84lgtDaCESkAXAK8FgMx/YXkVkiMmv16tWBxVSlijUeb9gQny6lzjmXCMJsLH4AGKKqpa4QoKqjVDVbVbOzsrICDapuXahTB3780RJCLLp27crEiRN32PbAAw9wySWXFHl8ly5dKNwF1jnnwhJmIsgGxorIUuA04FEROTnEeP7QuDFUrmxVRNu3l358nz59GDt27A7bxo4dS58+fQKK0Dnnyk9oiUBVm6lqU1VtCrwKXKqq/wkrnoIqVrT2gi1bYutSetppp/HWW2/9sQjN0qVL+fHHH3nppZfIzs6mXbt23HLLLQFH7ZxzOyewSedE5CWgC1BPRFYAtwCVAFT1X0F9b6nzUMeoBrD/FhtfsPmQ9mT+q/jZ7OrUqUPHjh1555136N27N2PHjuWMM87ghhtuoE6dOmzfvp1u3boxd+5cDjjggF2OzTnnylNgiUBVY64XUdV+QcWxKypXgdztsG4dVNhq1UXFiVYPRRPBk08+ybhx4xg1ahS5ubmsXLmS+fPneyJwziWclJuGeqdWkCmGABmbYcV8+HUJtGpl3UyL0rt3b6666io+++wzNm3aRJ06dbj33nuZOXMmtWvXpl+/fmzevLncYnPOufKS9lNMlCYz0xqP16+Hn34q/rjq1avTtWtXLrjgAvr06cO6deuoVq0au+++Oz///DPvvPNO/IJ2zrkySL0SQQDq1oW1a61Lac2aUGC9mR306dOHU045hbFjx9K6dWs6dOhA69atadSoEYcffnh8g3bOuRh5IoiBSP7aBYsX26pmkRUod3DyySdTcFrv4hagmTp1ajCBOufcTvCqoRgV7FK6fHnY0TjnXPnxRFAGNWrAXnvBmjXw669hR+Occ+UjZRJBvFZa23tv2G03WLbMxhjEW7KtKOecS3wpkQgyMzPJycmJy0WyQgXYZx/Iy4v/LKWqSk5ODpmZmfH7UudcykuJxuKGDRuyYsUKgpyZtLDcXEsEv/1mPYniJTMzk4YNG8bvC51zKS8lEkGlSpVoFl1MIE5U4dRT4c034dNPoX37uH69c86Vm5SoGgqDCDzxBGRlQZ8+sGlT2BE559zO8USwC+rWhWefhQULYNCgsKNxzrmd44lgF3XrZkngscdgwoSwo3HOubLzRFAO7rzT2gguuKDk+Yiccy4ReSIoB1WqwIsv2tKW/fpZ11LnnEsWngjKSZs2MHIkTJwIDz8cdjTOORc7TwTlaMAA6NkTBg+GuXPDjsY552LjiaAcicCTT0Lt2tC3L/z+e9gROedc6TwRlLOsLHj6aZg3D4YMCTsa55wrnSeCAPToAVdcYW0Fb78ddjTOOVcyTwQBGT4c9t8fzj8fVq0KOxrnnCteYIlARMaIyCoRmVfM/r4iMldEvhSRj0XkwKBiCUNmpnUpXbvWxhf47NHOuUQVZIngaaBHCfuXAEer6v7AHcCoAGMJxX77wYgR8NZb8OijYUfjnHNFCywRqOqHwC8l7P9YVaPrfM0AUnJu5YED4fjjbRqKr74KOxrnnPuzRGkjuBB4J+wggiACTz1ly1z+9a+25rFzziWS0BOBiHTFEkGxnS1FpL+IzBKRWfFcfKa87LmnJYO5c+GGG8KOxjnndhRqIhCRA4DRQG9VzSnuOFUdparZqpqdlZUVvwDL0YknwmWX2TQU778fdjTOOZcvtEQgIo2BfwPnqOo3YcURTyNGQNu2cN55sGZN2NE455wJsvvoS8B0YF8RWSEiF4rIABEZEDlkKFAXeFRE5ojIrKBiSRRVq1qX0pwcuOgi71LqnEsMga1ZrKp9Stl/EXBRUN+fqA480AabXX21LXXZv3/YETnn0l3ojcXp6Ior4Nhj4corbZlL55wLkyeCEFSoYBPT7babzVK6dWvYETnn0pkngpDsvbdNWf3ZZ3DzzWFH45xLZ54IQtS7N/ztb9abaPLksKNxzqUrTwQhu+8+aNUKzj0Xfil2Qg7nnAuOJ4KQVatmXUpXrbIeRN6l1DkXb54IEsBBB8Gdd8Jrr9lUFM45F0+eCBLEoEFwzDFw+eXw7bdhR+OcSyeeCBJEhQrwzDNQubJ1Kd22LeyInHPpwhNBAmnY0EYbz5wJt90WdjTOuXThiSDBnHqqLW15113w4YdhR+OcSweeCBLQgw9C8+Zw9tnw229hR+OcS3WeCBJQ9erWpXTlShgwwLuUOueC5YkgQR1yiLUTvPwyPP982NE451KZJ4IENmQIHHmkrWy2eHHY0TjnUpUnggSWkWGlgQoVrEtpbm7YETnnUpEnggTXuDE8/jjMmGGjj51zrrx5IkgCZ55pk9LdcQd8/HHY0TjnUo0ngiTx8MPQpIlVEa1dG3Y0zrlU4okgSdSsCS+8AMuXw8CBYUfjnEslngiSyGGHwdCh1oD84othR+OcSxWeCJLMDTdA585wySWwdGnY0TjnUkFgiUBExojIKhGZV8x+EZGHRGSRiMwVkYOCiiWVVKxoJQJVOOcc71LqnNt1QZYIngZ6lLD/eKBl5NEfeCzAWFJKs2bw6KMwbRoMHx52NM65ZBdYIlDVD4GSVuHtDTyrZgZQS0TqBxVPqjn7bPjrX+HWW+GTT8KOxjmXzMJsI2gALC/wekVk25+ISH8RmSUis1avXh2X4JLBI4/YGgZ9+8L69WFH45xLVknRWKyqo1Q1W1Wzs7Kywg4nYdSqBc89B0uWwBVXhB2Ncy5ZhZkIfgAaFXjdMLLNlcGRR1pPoqeegldeCTsa51wyCjMRjAfOjfQeOhRYq6orQ4wnaQ0dCp06Qf/+NuDMOefKotREICI9RaTMCUNEXgKmA/uKyAoRuVBEBojIgMghbwOLgUXAE8ClZf0OZypVslHHubnWpXT79rAjcs4lk4oxHHMm8ICIvAaMUdUFsXywqvYpZb8Cl8XyWa50zZvbfETnnw/33mtrGTjnXCxKvdNX1bOBDsB3wNMiMj3Si6dG4NG5MjnvPDj9dLjpJpg1K+xonHPJIqYqH1VdB7wKjAXqA6cAn4nI3wOMzZWRiK1dsNdeNsZg48awI3LOJYNY2gh6icjrwFSgEtBRVY8HDgSuCTY8V1a1a1uX0kWL4Kqrwo7GOZcMYikRnArcr6r7q+oIVV0FoKqbgAsDjc7tlC5drI3giSfg9dfDjsY5l+jE2mxLOECkGbBSVTdHXlcF9lTVpcGH92fZ2dk6yyvAS7V1q81SumQJzJ0LDYocs+2cSxciMltVs4vaF0uJ4BUgr8Dr7ZFtLoFVrmxdSjdvtkbkvLzS3+OcS0+xJIKKqro1+iLyvHJwIbnysu++8OCD8MEHcP/9YUfjnEtUsSSC1SLSK/pCRHoDa4ILyZWnCy+EU06B66+HOXPCjsY5l4hiSQQDgBtE5HsRWQ4MAf4WbFiuvIhYo3FWFvTpA5s2hR2Rcy7RxDKg7DtVPRRoC7RR1c6quij40Fx5qVsXnnkGFiyAQYPCjsY5l2himWICETkRaAdkiggAqnp7gHG5cta9O1xzDdx3Hxx/PPTsGXZEzrlEEcuAsn9h8w39HRDgdKBJwHG5AAwbBu3bwwUXwE8/hR2Ncy5RxNJG0FlVzwV+VdXbgMOAVsGG5YJQpQq8+CJs2AD9+nmXUueciSURbI78d5OI7A1sw+YbckmoTRsYORImTrTZSp1zLpZEMEFEagEjgM+ApcCLQQblgjVggLURDB5so46dc+mtxEQQWZDmA1X9TVVfw9oGWqvq0LhE5wIhAk8+aRPU9e0Lv/8edkTOuTCVmAhUNQ94pMDrLaq6NvCoXOCysuDpp2HePLjuurCjcc6FKZaqoQ9E5FSJ9ht1KaNHD7jiCnjoIXjnnbCjcc6FJZbZR9cD1YBcrOFYsJUmawYf3p/57KPla/Nm6NgRfv4ZvvwS9tgj7Iicc0HYpdlHVbWGqlZQ1cqqWjPyOpQk4MpfZqZ1KV271sYXlHJf4JxLQbEMKDuqqEc8gnPxsd9+MGIEvPUWPPZY2NE45+Itlikmri3wPBPoCMwGjintjSLSA3gQyABGq+rwQvsbA88AtSLHXKeqb8cWuitPAwfC22/bNBRHHw3t2oUdkXMuXmKpGupZ4HEssB/wa2nvE5EMrMfR8diEdX1EpG2hw24CxqlqB+As4NGynoArHyLw1FNQo4YtfL9lS9gROefiJZZeQ4WtANrEcFxHYJGqLo4sZjMW6F3oGAWi7Q27Az/uRDyunOy1F4wZY4PMbrgh7Gicc/FSatWQiDyMXbDBEkd7bIRxaRoAywu8XgF0KnTMrcB7IvJ3rGdS9xg+1wXopJPgsstsGooePeDYY8OOyDkXtFhKBLOwNoHZwHRgiKqeXU7f3wd4WlUbAicAz0VGM+9ARPqLyCwRmbV69epy+mpXnBEjbE6i886DNb4WnXMpL5ZE8CrwvKo+o6ovADNEZLcY3vcD0KjA64aRbQVdCIwDUNXpWGN0vcIfpKqjVDVbVbOzsrJi+Gq3K6pWtS6lOTlw0UXepdS5VBfTyGKgaoHXVYFJMbxvJtBSRJqJSGWsMXh8oWO+B7oBiEgbLBH4LX8CaN8e7r4b3njDlrp0zqWuWBJBpqpuiL6IPC+1RKCqucBAYCLwNdY76CsRuV1EekUOuwa4WES+AF4C+mlpQ51d3Fx5pbURXHmlLXPpnEtNsYwj2CgiB6nqZwAicjAQ03yVkTEBbxfaNrTA8/nA4bGH6+KpQgWbmO6AA2yW0unToXLlsKNyzpW3WEoEVwKviMhHIjINeBm7008+v5Y6/MEVsvfeMHo0fPYZ3Hxz2NE454IQy4CymUBr4BJgANBGVWcHHVi5e/ddaNIE7rnHZlpzMTv5ZOjf33oTTZ4cdjTOufIWy1xDlwHVVHWeqs4DqovIpcGHVs6aN4euXW3y/dat4eWXvTtMGYwcCa1awbnnwi+/hB2Nc648xVI1dLGq/hZ9oaq/AhcHF1JAWra0LjCTJkGtWnDWWdC5M8yYEXZkSaFaNetSumqVlQ48hzqXOmJJBBkFF6WJzCGUvE2G3brB7Nm2VuPSpXDYYdCnjz13JTroILjzTnjtNZuXyDmXGmJJBO8CL4tINxHphnXzTO71rDIybPL9b7+1FtA33rDqouuvh3Xrwo4uoQ0aZDVsl19ufz7nXPKLJREMASZjDcUDgC/ZcYBZ8qpeHW6/HRYuhDPOgOHDoUULePxxyM0NO7qEVKECPPusdSPt2xe2bQs7Iufcroql11Ae8AmwFJtR9BhsgFjqaNTIrm4zZ1rJYMAA6NAB3nsv7MgSUsOGNtp45ky47bawo3HO7apiE4GItBKRW0RkAfAwNh0EqtpVVf8ZrwDjKjsb/vtfqwTftAn+8hc44QSYPz/syBLOqada7dpdd8GHH4YdjXNuV5RUIliA3f2fpKpHqOrDwPb4hBUiEfi//7OL/333wccf29DaSy+1LjPuDw8+aL1yzz4bfvut9OOdc4mppETwf8BKYIqIPBFpKJYSjk8tVarA1VfDokWWBEaNsi6o//iHD0iLqF4dXngBVq602jTvUupccio2Eajqf1T1LGxU8RRsqok9ROQxETkuXgGGrl49eOghmDcPjjoKhgyxyfrHjfMrH9Cxo7UTvPwyPP982NE453ZGLI3FG1X1RVXtia0p8DnWkyi9tG4NEybA++9DzZpw5plw+OHwySdhRxa6IUPgyCNtZbPFi8OOxjlXVmVas1hVf40sEtMtqIASXvfuNgPb6NF21Tv0UFvtfdmysCMLTUYGPPecdS3t29d73jqXbHZm8XqXkQEXXmgjqm66CV5/Hfbd11Z8X78+7OhC0aQJ/OtfNmPHnXeGHY1zriw8EeyKGjXgjjvgm2/g9NNtSa8WLayT/fbU72BV2Fln2aR0d9xhna2cc8nBE0F5aNTI6kY+/dSm6Ozf3wakvf9+2JHF3cMPW+mgb1+frcO5ZOGJoDwdcoiNrnr1Vdi4EY47Dk48Ma0GpNWsaV1Kly+3xmPnXOLzRFDeRGzY7fz5cO+98L//2YC0yy6D1avDji4uDjvM5vJ7/nmbuto5l9g8EQSlShW45hprUB4wwCaya9HClvnasiXs6AJ344223MMll/gM384lOk8EQcvKgn/+E7780jrbDx5sA9JeeSWlB6RVrGglAlU455y0bDt3Lml4IoiXNm3gzTdtRtPq1W3a6yOOsAbmFNWsGTz6KEybZh2qnHOJKdBEICI9RGShiCwSkeuKOeYMEZkvIl+JSOrXKB97LHz+uXUx/e476NTJuth8/33YkQWib19bAO7WW30QtnOJKrBEEFnS8hHgeKAt0EdE2hY6piVwPXC4qrbD5jNKfRkZcNFF1n5w443w73/bgLSbbkq5AWkiVipo2NCSQoqdnnMpIcgSQUdgkaouVtWtwFigd6FjLgYeUdVfAVQ1veZ5rlHDhuEuXGg9jYYNsxlOR49OqUr1WrVsmMWSJXDFFWFH45wrLMhE0ABYXuD1isi2gloBrUTkfyIyQ0R6FPVBItJfRGaJyKzVqdgFs3Fja1n95BPrWXTxxTYgbdKksCMrN0ceaTNwPPWUtZM75xJH2I3FFYGWQBegD/CEiNQqfFBkortsVc3OysqKc4hx1LEjfPSRTXG9fr21J5x0EnydGiuDDh1qp9i/vw04c84lhiATwQ9AowKvG0a2FbQCGK+q21R1CfANlhjSl4jNW/T117YIzkcfwf77w8CBsGZN2NHtkkqVbNRxbq53KXUukQSZCGYCLUWkmYhUBs4Cxhc65j9YaQARqYdVFfmM9gCZmXDttbZC2t/+ZlN7tmhho5WTeEBaixY2H9F//2un4pwLX2CJQFVzgYHAROBrYJyqfiUit4tIr8hhE4EcEZmPrYJ2rarmBBVTUsrKgkcegblzbSGca6+1MQmvvpq0A9LOO88KPTfdBLNnhx2Nc040yS4m2dnZOmvWrLDDCM9779nUFfPm2YC0kSNtsrsk88svcOCBsNtuts5PtWphR+RcahOR2aqaXdS+sBuLXVkdd5wNSBs1ytZB6NjRKtyTrPW1Th149lkbSnHQQdajaMYMyMsLO7I0tmULTJ1qRbULL4Qvvgg7IhcnXiJIZuvWwT33wH33WSPzoEG2gHD16mFHFrNx42w+vv/+1xqP99jDOkr17GmdprykEKC8PLvYT5oEH3xgU6j//rsNeMzMhE2b4OyzbaWhJk3CjtbtopJKBJ4IUsGyZXZL/eKLsNdeNkitXz/7HzpJ/PorvPsuTJgAb78Na9faBK7dukGvXpYcGhQeheLKbvFiu/BPmgSTJ0NOpEmubVtbj7tbNzj6aEsSw4fDgw9aW9TAgfZvrG7dcON3O80TQbqYMQOuvhqmT7c1EEaOtP+xk8y2bTZR3fjx9lgc6Ud28MGWFHr2hPbtrRDkSrF6tV3wo3f9S5bY9gYN8i/83brB3nsX/f7ly+GWW+CZZ2wk/HXXweWXW+OOSyqeCNKJqg3dHTLEFgI46SRbA6F167Aj2ymqNqRi/HgrLUyfbtsaNbKE0LMndO1qpQeHrYz30Uf5F/45c2z77rvbH6pbN0sA++5btkw6b56VCCZMsCRy223W/atixWDOw5U7TwTpaPNmeOghqybatMlWiLnlFqhXL+zIdsmqVfDWW3Y9mjjRTq16dfjLXywpnHCC9bhNG7m5MHNmfnXP9OlWpKpc2bobR+/6Dz64fC7aH35oNxkzZlh10t132x/ei2cJzxNBOlu1yuaAfvxxK9rffLPV96bALfTmzTBlSn4V0o8/QoUKtlRmr172KOuNb8KLFpGiF/6pU206EhGbn6p7d3scfnhw1Teq8PrrcP311nPtiCOs00LnzsF8nysXnggcfPWVDUZ75x1o3tymrzjllJS5Sqpar9poUvj8c9veokV+u8IRRyRpTcaKFVbNE63uWbnStjdvnn/h79o1/g2527bBmDF2o/HTT3DyyVZCSNJqyFTnicDlmzjRBqR99ZVNCTpyJGQX+W8jqS1fbgvCTZhg186tW6F2bas66tkTevSwavOE9NtvdqcfvetfuNC2Z2Xl1/F36wZNm4YZZb6NG+H+++3mYuNGG4Nw663FN0C7UHgicDvKzbU7uZtvtqqjc86Bu+6y1WNS0IYNNiB7wgRLDmvWWMng6KPzSwvNmoUY4ObNVrcfvfDPmmXdN3fbzYKM3vXvt+1sqL0AABLXSURBVJ/VfSWq1autTeqxx+wPfNVVtkZ3wmbc9OKJwBVt3Toryt9/v11gBg2y/3GTaEBaWW3fbss+RKuQojN877dfflLo2DHg621envXmiV74p03LH8jVqVP+hb9TJ2v0TTaLF9tNxosvWnXVTTdZZ4UUaJdKZp4IXMmWLrWGv7FjbUDasGHWNTCJBqTtrEWLrKQwYYJ1iNm+HfbcM390c/fu5TC6WdXWp47W80+ebJMtAbRrl3/hP+ooqFlzl88pYXz2mfUwmjTJqrHuvNMWsE7kUk0K80TgYjN9ug1ImzHDZoQbORKOOSbsqOLm11+tLT06unndOptpoeDo5pirvVetyh/INWmSjf4Gq36LXviPOQbq1w/sfBLG++9bQvj8c/t3dc89NmdWinRUSBaeCFzsVG0CoCFD7OLVs6cNSNt337Aji6utW21c1oQJVoUUHZCbnZ1fhXTggQWuZRs25A/kmjTJpg0HW7C5a9f8i3/Llul5AczLsxLnjTdaCbRbN0sIBx8cdmRpwxOBK7vNm22emWHDrP46OiAtDeeaUYX58/PbFT75BDJ0Gz33+JQLmn5A502TqL1gOpKba/Xg0YFc3bvb1KppUMUWsy1bbJGlO+6weY7OOsuqjJo3DzuylOeJwO28VassAYwaZfXX0QFpydiIuStUrcvtBx+w5a1JVPhwKpW2bCAP4TMO4sNK3VnfqTstzjucv5xcNdkHcAdv7Vpbom7kSBuPMGCANSrvsUfYkaUsTwRu182bZ72KJk60u7cRI2wAUSpXcyxfvuNArp9+su0tW/7Rn//3Q7syeU6dPxqco6ObO3fecXSzK8bKlTZv0ejRULWq9Vq76qqU7rkWFk8Ervy8+64NSJs/33q5jByZOvW8v/5qc1ZEL/7ffGPb99hjx5k6i5mbPy/POspE2xWi8721bJnfrnD44Uk6ujloCxbYpHavv27dtm691QamVaoUdmQpwxOBK1+5uXYHN3SoDSI691xrS0i2AWmbN8P//pd/4Z89267m1apBly75o3j322+nSj7ff28D2MaPt/wSHd184omWFP7yFx9r9SfTp1upYNo0y6B33QWnnpraJc848UTggrF2bf6AtIwMm8vo2msTt1i/fbt1YYxe+KdNs2RQsSIcemj+hb9jx3JvA1m/fsfRzTk5drNbcHRzoswYETpV+yNdd52VPDt1sukrjjoq7MiSmicCF6wlS2xA2ssvW7/4YcOslBB2bxlVGzEWreOfPNmqfwD23z+/uueoo2xm1jjZvt1ufKNVSAsW5IcUTQqHHOLjrti+3RbEGToUfvjBilJ3321/KFdmJSUCVDWwB9ADWAgsAq4r4bhTAQWyS/vMgw8+WF2C+t//VDt1UgXV9u1VJ0+Ofww//aT6wguqF1yg2rixxQKqjRrZthdeUF25Mv5xleCbb1Tvu0/16KNVMzIs3D33VL3oItU33lDduDHsCEO2aZPqPfeo7r67qohqv36qy5aFHVXSAWZpcdfg4nbs6gPIAL4D9gEqA18AbYs4rgbwITDDE0EKyMtTfeml/Itwr16qCxcG933r1qm++abqlVeq7r9//oW/dm3VU09VffRRu9Lm5QUXQznKyVF9/nnVM85QrVnTTiUzU/Wkk1RHjVL98cewIwxRTo7qoEGqVarY49prVX/5JeyokkZYieAwYGKB19cD1xdx3APAicBUTwQpZNMm1bvvVq1RQ7ViRdXLL1dds2bXP3frVtWPPlK95RbVI46wzwa7MHTvrjp8uOrMmaq5ubv+XSHbskX1/fftT9e0aX6OO+QQ1TvuUP3ii6TJb+Vr6VLVc8+10kGtWqr/+If9e3MlCisRnAaMLvD6HOCfhY45CHgt8rzYRAD0B2YBsxo3bhzgn8qVu59+Uu3fX7VCBbtLv/9+u8LFKi9Pde5c1ZEjVU88UbV6dftnK2JXxOuvV500KeUvBNE/w7Bh+bVvYAWvgQNVJ05U3bw57Cjj7IsvVE84wf4QDRuqjhmTEjcAQUnIRABUiFz8m2opiaDgw0sESWruXNVjj7V/ci1aqL7+evG3s8uWqT75pGqfPlZZHr3qtWqleumlqv/+d9pXCaxcqTp6tNW8Va1qf54aNVRPO0312WfLp/CVNKZMsZsCUN1vP6sqTMuiUskSsmoI2B1YAyyNPDYDP5aWDDwRJLG8PNW331Zt08b+6R19tOrs2Vb3++qrqgMGqLZsmX/h33NP1b59VZ96SvX778OOPmFt2qQ6YYIVvOrXtz9dhQqqRx6pOmKE6oIFYUcYB3l5quPG2U0GqB51lOr06WFHlVBKSgSBdR8VkYrAN0A34AdgJvBXVf2qmOOnAoNUtcS+od59NAXk5sITT1i3wJwc26Zq4w+6dMnv1tmunQ8kKqO8PBsXF+2a+sUXtr1Vq/yuqZ07p/Do5m3bbLDjbbfBzz/bYLRhw3yeD0IcRyAiJ2CNwRnAGFUdJiK3Y5lpfKFjp+KJIL2sXQsPP2z9xY891jrP+5QC5WrZsh1HN2/bBnXq2NrNvXrZ6OZUWgvnDxs22PQnI0bY7LkXX2w3Humw/kMxfECZc45162x08/jx8NZbtkhapUpWCIuWFoqZRil5/fyzTXn9+OM2Wvyaa2zyxJTMfiXzROCc20Fu7o6jmxcutO0HHGBJoUcPaNPGSg8pYdEim+b65ZehXj2bTn3AgLSaTt0TgXOuRN98k58Upk2ztgawBdZatNjx0by5/XfPPZOwCWfmTFt9b8oU2Gcfaz8444y0mM/DE4FzLmY5OTYp63ff2Y109LFsmTXnRFWr9ufkEH00aJDA11ZVqyMbMsRa0w86yJbN7N497MgC5YnAObfLtm2zZFAwOSxaZAlj8WKbZjuqShW74S6qJNGkSYL0WsrLgxdftCqjZcvguONg+HDo0CHsyALhicA5F6jt22HFih2TQ8Fk8fvv+cdWrGhTbhcuRbRoAc2aWRKJq82b4bHHbO3kX36Bvn2tgblZszgHEixPBM650KjaKp9FlSS+/dZ6M0WJQKNGRZckmje36qjA/PabrXvwwAOW2S69FG68kVRZgNoTgXMuIalam0RxJYk1a3Y8vn79oksSzZtbw3a5+OEHWypzzBgb5Dh4MFx5ZcBZKHieCJxzSWnt2j8nh2jC+PHHHY+tW7fokkSLFnZTX+YeTvPn2zrKb7xhGei22+D88xOkgaPsPBE451LOxo3WSF1USeL77620EVWzZvElifr1S+nhNG2a9TD6+GObquLuu+Hkk5Ou76wnAudcWtmyBZYuLboksWSJDaiLqlp1x3aIgomiUaPIiquqNsjiuutsbdHDDrP2hCOOCOsUy8wTgXPOReTmWomhqHaJ776zJBJVqZJ1HoomhpbNcjl6ydO0GXsLFVf9aMOw774b2rYN74Ri5InAOedikJdnbcXFtUts2GDHVWUTV8qDXM9wdtMNzGh9PvNOu5W9shvSooWNoahaNdxzKcwTgXPO7SJVWLVqx8Tw81drOPp/d3Hqz4+QRwUe5AqGcx1rqUWDBkW3STRvHs6cd54InHMuSEuXsmXwzVR+9QW2VqvNfw+/kXH1LuXrJZmWMH7e8fA99ii6TaJFi+Am+vNE4Jxz8TBnjjUoT5wIjRvbCOW+fVm/KeNPbRHR5ytW7PgRQU3054nAOefi6YMPrMvp7Nk2t/fw4Ta3dxFX8d9/t26whdslvvvOej5FZ4IFuOoqW29nZ5SUCJJzZIRzziWybt3g00/hlVdsUNoJJ0DXrjbL6SGH7HBo1aq2Kmu7dn/+mK1bd5zo78ADgwnXSwTOORekrVth1Ci4/XZYvdrWPxg2zOp64qikEkGizhjunHOpoXJlGDjQbumHDrV1Qtu0gcsu+3Mrckg8ETjnXDzUrGnzFS1aBBdfbOsoN29uE9ytXx9qaJ4InHMunvbaCx591Ca1O/54Sw4tWsAjj9jqPyHwROCcc2Fo1coak2fMsKqigQNtqopx43acMS8OAk0EItJDRBaKyCIRua6I/VeLyHwRmSsiH4hIkyDjcc65hNOpE0yZYm0HmZlw5pn52+IksEQgIhnAI8DxQFugj4gUnpnpcyBbVQ8AXgX+EVQ8zjmXsESsi+mcOfD007ak2zHHWNXR3LmBf32QJYKOwCJVXayqW4GxQO+CB6jqFFXdFHk5A2gYYDzOOZfYMjLgvPPgm29gxAj45BNo3x7OPdcGFAQkyETQAFhe4PWKyLbiXAi8U9QOEekvIrNEZNbq1avLMUTnnEtAmZkwaJANL772Wms3aNUK7r8/kK9LiMZiETkbyAZGFLVfVUeparaqZmdlZcU3OOecC0vt2jYa+dtvoW9fWxwhAEFOMfED0KjA64aRbTsQke7AjcDRqrql8H7nnEt7jRrBmDGBfXyQJYKZQEsRaSYilYGzgPEFDxCRDsDjQC9VXRVgLM4554oRWCJQ1VxgIDAR+BoYp6pficjtItIrctgIoDrwiojMEZHxxXycc865gAQ6+6iqvg28XWjb0ALPuwf5/c4550qXEI3FzjnnwuOJwDnn0pwnAuecS3OeCJxzLs15InDOuTSXdEtVishqYGcn3agHrCnHcMLk55KYUuVcUuU8wM8lqomqFjk1Q9Ilgl0hIrOKW7Mz2fi5JKZUOZdUOQ/wc4mFVw0551ya80TgnHNpLt0SwaiwAyhHfi6JKVXOJVXOA/xcSpVWbQTOOef+LN1KBM455wrxROCcc2kuJROBiIwRkVUiMq+Y/SIiD4nIIhGZKyIHxTvGWMRwHl1EZG1kCu85IjK0qOMSgYg0EpEpIjJfRL4SkSuKOCbhf5cYzyMpfhcRyRSRT0Xki8i53FbEMVVE5OXIb/KJiDSNf6Sli/Fc+onI6gK/y0VhxBoLEckQkc9F5M0i9pX/b6KqKfcAjgIOAuYVs/8EbH1kAQ4FPgk75p08jy7Am2HHGeO51AcOijyvAXwDtE223yXG80iK3yXyd64eeV4J+AQ4tNAxlwL/ijw/C3g57Lh34Vz6Af8MO9YYz+dq4MWi/h0F8ZukZIlAVT8EfinhkN7As2pmALVEpH58ootdDOeRNFR1pap+Fnm+HlusqEGhwxL+d4nxPJJC5O+8IfKyUuRRuPdIb+CZyPNXgW4iInEKMWYxnktSEJGGwInA6GIOKfffJCUTQQwaAMsLvF5Bkv7PDBwWKQ6/IyLtwg4mFpGibAfsrq2gpPpdSjgPSJLfJVIFMQdYBbyvqsX+JmqrDq4F6sY3ytjEcC4Ap0aqHV8VkUZF7E8EDwCDgbxi9pf7b5KuiSBVfIbNH3Ig8DDwn5DjKZWIVAdeA65U1XVhx7OzSjmPpPldVHW7qrYHGgIdRWS/sGPaWTGcywSgqaoeALxP/l11whCRk4BVqjo7nt+brongB6Dg3UDDyLakoqrrosVhtWVBK4lIvZDDKpaIVMIuni+o6r+LOCQpfpfSziPZfhcAVf0NmAL0KLTrj99ERCoCuwM58Y2ubIo7F1XNUdUtkZejgYPjHVsMDgd6ichSYCxwjIg8X+iYcv9N0jURjAfOjfRSORRYq6orww6qrERkr2jdoIh0xH7PhPyfNBLnk8DXqjqymMMS/neJ5TyS5XcRkSwRqRV5XhU4FlhQ6LDxwHmR56cBkzXSSplIYjmXQu1NvbD2nYSiqterakNVbYo1BE9W1bMLHVbuv0mgi9eHRURewnpu1BORFcAtWOMRqvov4G2sh8oiYBNwfjiRliyG8zgNuEREcoHfgbMS8X/SiMOBc4AvI/W4ADcAjSGpfpdYziNZfpf6wDMikoElq3Gq+qaI3A7MUtXxWNJ7TkQWYR0Xzgov3BLFci6Xi0gvIBc7l36hRVtGQf8mPsWEc86luXStGnLOORfhicA559KcJwLnnEtzngiccy7NeSJwzrk054nAuUJEZHuBGSrniMh15fjZTaWY2WSdC0tKjiNwbhf9HpmqwLm04CUC52IkIktF5B8i8mVk7vsWke1NRWRyZDKzD0SkcWT7niLyemTyuS9EpHPkozJE5InIvPnvRUbCOhcaTwTO/VnVQlVDZxbYt1ZV9wf+ic0SCTax3DORycxeAB6KbH8I+G9k8rmDgK8i21sCj6hqO+A34NSAz8e5EvnIYucKEZENqlq9iO1LgWNUdXFk4rmfVLWuiKwB6qvqtsj2lapaT0RWAw0LTHQWnbr6fVVtGXk9BKikqncGf2bOFc1LBM6VjRbzvCy2FHi+HW+rcyHzROBc2ZxZ4L/TI88/Jn/ir77AR5HnHwCXwB+LpuweryCdKwu/E3Huz6oWmFkU4F1VjXYhrS0ic7G7+j6RbX8HnhKRa4HV5M+aegUwSkQuxO78LwESalpt58DbCJyLWaSNIFtV14Qdi3PlyauGnHMuzXmJwDnn0pyXCJxzLs15InDOuTTnicA559KcJwLnnEtzngiccy7N/T+3ErpAsR/UOwAAAABJRU5ErkJggg==)"
      ]
    },
    {
      "cell_type": "markdown",
      "metadata": {
        "id": "WHoBQCM4rzK3"
      },
      "source": [
        "\n",
        "### **Accuracy vs Epochs Graph**\n",
        "It shows increase in accuracy over epochs."
      ]
    },
    {
      "cell_type": "code",
      "metadata": {
        "id": "ibcF2oRzkjvU"
      },
      "source": [
        "plotgraph(epochs, acc, val_acc)"
      ],
      "execution_count": null,
      "outputs": []
    },
    {
      "cell_type": "markdown",
      "metadata": {
        "id": "fkNgm1ODku5z"
      },
      "source": [
        "![graph2.png](data:image/png;base64,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)"
      ]
    },
    {
      "cell_type": "code",
      "metadata": {
        "id": "lkzikPKGky0M"
      },
      "source": [
        ""
      ],
      "execution_count": null,
      "outputs": []
    },
    {
      "cell_type": "markdown",
      "metadata": {
        "id": "qulrGlF7hjxc"
      },
      "source": [
        ""
      ]
    },
    {
      "cell_type": "markdown",
      "metadata": {
        "id": "8bSvosIQgq0P"
      },
      "source": [
        ""
      ]
    }
  ]
}