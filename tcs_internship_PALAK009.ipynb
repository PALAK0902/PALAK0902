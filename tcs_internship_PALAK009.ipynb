{
  "nbformat": 4,
  "nbformat_minor": 0,
  "metadata": {
    "colab": {
      "name": "tcs_internship_PALAK009",
      "provenance": [],
      "authorship_tag": "ABX9TyPAMZRIfoUqcCkZ4DthgJ5c",
      "include_colab_link": true
    },
    "kernelspec": {
      "name": "python3",
      "display_name": "Python 3"
    },
    "language_info": {
      "name": "python"
    }
  },
  "cells": [
    {
      "cell_type": "markdown",
      "metadata": {
        "id": "view-in-github",
        "colab_type": "text"
      },
      "source": [
        "<a href=\"https://colab.research.google.com/github/PALAK0902/PALAK0902/blob/main/tcs_internship_PALAK009.ipynb\" target=\"_parent\"><img src=\"https://colab.research.google.com/assets/colab-badge.svg\" alt=\"Open In Colab\"/></a>"
      ]
    },
    {
      "cell_type": "markdown",
      "metadata": {
        "id": "GRFsq5wE1uXM"
      },
      "source": [
        "### **Automate Identification And Recognition Of Handwritten Text from An Image.**\n",
        "**Name Of The Student** : PALAK\n",
        "\n",
        "**Internship Project Title** : Automate Identification and Recognition of Handwritten Text from an Image\n",
        "\n",
        "**Name of the Organization** : TCS iON\n",
        "\n",
        "**Name of the Industry Mentor** : Debashis Roy Sir AND  Anamika Chatterjee Ma’am\n",
        "\n",
        "**Name of the Institut**e : Bharati Vidyapeeth (Deemed to be University) College of Engineering, Pune\n",
        "\n",
        "**Introduction**:\n",
        "An optical character recognition problem is basically a type of image-based sequence recognition problem. And for sequence recognition problem, most suited neural networks are recurrent neural networks(RNN) while for an image-based problem most suited are convolution neural networks(CNN). To cop up with the OCR problems we need to combine both of these CNN and RNN and use SoftMax.\n",
        "\n",
        "**Steps being followed are as follows:** \n",
        "The complete implementation of the project can be divided into the following major steps:\n",
        "\n",
        "1. Collecting the Dataset.\n",
        "\n",
        "2. Uploading the dataset into the Google Drive.\n",
        "\n",
        "3. Preprocessing the data.\n",
        "\n",
        "4. Dividing the dataset into train, test and validation sets.\n",
        "\n",
        "5. Creating the defining the model/network architecture.\n",
        "\n",
        "6. Training the model.\n",
        "\n",
        "7. Saving the model.\n",
        "\n",
        "8. Testing the model.\n",
        "\n",
        "9. Prediction.\n",
        "\n",
        "10. Plotting the loss and accuracy plots.\n",
        "\n",
        "**Step 1: Collecting the Dataset**\n",
        "we used IAM handwritten datset. This is good dataset with several preprocessing already done.\n",
        "\n",
        "To download the dataset either you can directly download from this link or use the following commands to download the data and unzip.\n",
        "\n",
        "My data subset which I am using for training and testing hgaving around 4900 images can be found on this link."
      ]
    },
    {
      "cell_type": "code",
      "metadata": {
        "colab": {
          "base_uri": "https://localhost:8080/"
        },
        "id": "upl0GFGXakAu",
        "outputId": "26b392f3-88e6-4959-e7df-81fea0db51ca"
      },
      "source": [
        "from __future__ import division\n",
        "import numpy as np\n",
        "import os\n",
        "import glob\n",
        "from random import *\n",
        "from PIL import Image\n",
        "from keras.utils import to_categorical\n",
        "from sklearn.preprocessing import LabelEncoder\n",
        "from sklearn.model_selection import train_test_split\n",
        "import matplotlib.pyplot as plt\n",
        "import pandas as pd\n",
        "import matplotlib.image as mpimg\n",
        "# %matplotlib inline\n",
        "from keras.models import Sequential\n",
        "from keras.layers import Dense, Dropout, Flatten, Lambda, ELU, Activation, BatchNormalization\n",
        "from keras.layers.convolutional import Convolution2D, Cropping2D, ZeroPadding2D, MaxPooling2D\n",
        "from keras.preprocessing.image import ImageDataGenerator\n",
        "from keras.optimizers import SGD, Adam, RMSprop\n",
        "from google.colab import drive\n",
        "drive.mount('/content/gdrive')"
      ],
      "execution_count": null,
      "outputs": [
        {
          "output_type": "stream",
          "text": [
            "Drive already mounted at /content/gdrive; to attempt to forcibly remount, call drive.mount(\"/content/gdrive\", force_remount=True).\n"
          ],
          "name": "stdout"
        }
      ]
    },
    {
      "cell_type": "markdown",
      "metadata": {
        "id": "vAlgv5Hg2jwh"
      },
      "source": [
        "\n",
        "## **Step 2: Uploading the Dataset on GDrive and acessing it**.\n",
        "After uploading the dataset accessing the content stored in GDrive."
      ]
    },
    {
      "cell_type": "code",
      "metadata": {
        "id": "oXt2c9XHayhC"
      },
      "source": [
        "d = {}\n",
        "from subprocess import check_output\n",
        "with open('https://drive.google.com/file/d/1VNxRlaZSeNW7a5DjwnqIYk4HVWGDEF6M/view?usp=sharing') as f:\n",
        "  for line in f:\n",
        "    key = line.split(' ')[0]\n",
        "    writer = line.split(' ')[1]\n",
        "    d[key] = writer\n",
        "print(len(d.keys()))"
      ],
      "execution_count": null,
      "outputs": []
    },
    {
      "cell_type": "markdown",
      "metadata": {
        "id": "04taH5ga2wvZ"
      },
      "source": [
        "## **Step 3: Preprocessing the Data**.\n",
        "After fetching the dataset we will preprocess the data"
      ]
    },
    {
      "cell_type": "code",
      "metadata": {
        "id": "DUOyNuO8cCDm"
      },
      "source": [
        "tmp = []\n",
        "target_list = []\n",
        "path_to_files = os.path.join('https://drive.google.com/drive/folders/1Vg8wmQ93drKVN81luCiHwObHuDC3N00S?usp=sharing','*')\n",
        "for filename in sorted(glob.glob(path_to_files)):    \n",
        "    tmp.append(filename)\n",
        "    image_name = filename.split('/')[-1]\n",
        "    file, ext = os.path.splitext(image_name)\n",
        "    parts = file.split('-')\n",
        "    #print(parts)\n",
        "    form = parts[0] + '-' + parts[1]\n",
        "    \n",
        "    for key in d:\n",
        "        if key == form:\n",
        "            target_list.append(str(d[form]))\n",
        "\n",
        "img_files = np.asarray(tmp)\n",
        "img_targets = np.asarray(target_list)\n",
        "print(img_files)\n",
        "print(img_targets)"
      ],
      "execution_count": null,
      "outputs": []
    },
    {
      "cell_type": "markdown",
      "metadata": {
        "id": "2wtkJeUfcqPh"
      },
      "source": [
        "https://drive.google.com/file/d/1FhKYRDP3Qeut2wUwyOgqvvaDiSYY0oeC/view?usp=sharing\n",
        "https://drive.google.com/file/d/1M-EOX2QrbF9iOo5-7YGRlbdyKqTU4oxD/view?usp=sharing\n",
        "https://drive.google.com/file/d/181Td0_kYQcDVJ9uZEWWf5_4wq8LsOaFG/view?usp=sharing\n",
        "https://drive.google.com/file/d/1flE54selZXJroSKTALdDZi2aiqOdEgt8/view?usp=sharing"
      ]
    },
    {
      "cell_type": "markdown",
      "metadata": {
        "id": "AMKOGrWb27qs"
      },
      "source": [
        "## **Visualising the Data**"
      ]
    },
    {
      "cell_type": "code",
      "metadata": {
        "id": "SGsXX3h2caWO"
      },
      "source": [
        "# Visualizing the data\n",
        "for filename in img_files[6:15]:\n",
        "    img=mpimg.imread(filename)\n",
        "    plt.figure(figsize=(10,10))\n",
        "    plt.imshow(img, cmap ='gray')"
      ],
      "execution_count": null,
      "outputs": []
    },
    {
      "cell_type": "code",
      "metadata": {
        "id": "NV1aE_q2eTfo"
      },
      "source": [
        "# Label Encode writer names for one hot encoding later\n",
        "encoder = LabelEncoder()\n",
        "encoder.fit(img_targets)\n",
        "encoded_Y = encoder.transform(img_targets)\n",
        "\n",
        "print(img_files[6:15], img_targets[6:15], encoded_Y[6:15])"
      ],
      "execution_count": null,
      "outputs": []
    },
    {
      "cell_type": "markdown",
      "metadata": {
        "id": "ctp8YTaCeisH"
      },
      "source": [
        "https://drive.google.com/file/d/1m8uIT5Cym3mA5wPw8Ll_jsphsNbJJ1Ez/view?usp=sharing\n",
        "https://drive.google.com/file/d/1NaLeH52euvr5HlLqHEmRmrodR1z1GBVR/view?usp=sharing\n",
        "https://drive.google.com/file/d/1lRSVEsMtIt1POG83sAyknraSBEYYaLQI/view?usp=sharing'https://drive.google.com/file/d/1LkI5osBakwg8LkYc80SiC9hKdRQeSSHo/view?usp=sharing\n"
      ]
    },
    {
      "cell_type": "markdown",
      "metadata": {
        "id": "4GpTpnIHnReh"
      },
      "source": [
        "\n",
        "## **Step 4: Dividing the dataset into train, test and validation sets**.\n",
        "\n",
        "After sptlitting we have 3240 train images, 835 test and validation images each."
      ]
    },
    {
      "cell_type": "code",
      "metadata": {
        "id": "veDqac8Nex-e"
      },
      "source": [
        "#split into test train and validation in ratio 4:1:1\n",
        "\n",
        "from sklearn.model_selection import train_test_split\n",
        "train_files, rem_files, train_targets, rem_targets = train_test_split(\n",
        "        img_files, encoded_Y, train_size=0.55, random_state=30, shuffle= True)\n",
        "\n",
        "validation_files, test_files, validation_targets, test_targets = train_test_split(\n",
        "        rem_files, rem_targets, train_size=0.5, random_state=22, shuffle=True)\n",
        "\n",
        "print(train_files.shape, validation_files.shape, test_files.shape)\n",
        "print(train_targets.shape, validation_targets.shape, test_targets.shape)"
      ],
      "execution_count": null,
      "outputs": []
    },
    {
      "cell_type": "markdown",
      "metadata": {
        "id": "l6KMj0YunJxX"
      },
      "source": [
        "(3233,) (833,) (833,)\n",
        "(3233,) (833,) (833,)"
      ]
    },
    {
      "cell_type": "markdown",
      "metadata": {
        "id": "ubJFZq7SnFDh"
      },
      "source": [
        "(3233,) (833,) (833,)\n",
        "(3233,) (833,) (833,)\n"
      ]
    },
    {
      "cell_type": "markdown",
      "metadata": {
        "id": "PX_AEEEz4ibF"
      },
      "source": [
        "## **Generator Functions.**"
      ]
    },
    {
      "cell_type": "code",
      "metadata": {
        "id": "nPZUikBifJAo"
      },
      "source": [
        "batch_size = 16\n",
        "num_classes = 50\n",
        "\n",
        "\n",
        "def generate_data(samples, target_files,  batch_size=batch_size, factor = 0.1 ):\n",
        "    num_samples = len(samples)\n",
        "    from sklearn.utils import shuffle\n",
        "    while 1: # Loop forever so the generator never terminates\n",
        " \n",
        "        for offset in range(0, num_samples, batch_size):\n",
        "            batch_samples = samples[offset:offset+batch_size]\n",
        "            batch_targets = target_files[offset:offset+batch_size]\n",
        "\n",
        "            images = []\n",
        "            targets = []\n",
        "            for i in range(len(batch_samples)):\n",
        "                batch_sample = batch_samples[i]\n",
        "                batch_target = batch_targets[i]\n",
        "                im = Image.open(batch_sample)\n",
        "                cur_width = im.size[0]\n",
        "                cur_height = im.size[1]\n",
        "\n",
        "                \n",
        "                height_fac = 113 / cur_height\n",
        "\n",
        "                new_width = int(cur_width * height_fac)\n",
        "                size = new_width, 113\n",
        "\n",
        "                imresize = im.resize((size), Image.ANTIALIAS)  \n",
        "                now_width = imresize.size[0]\n",
        "                now_height = imresize.size[1]\n",
        "                \n",
        "\n",
        "                avail_x_points = list(range(0, now_width - 113 ))\n",
        "\n",
        "            \n",
        "                pick_num = int(len(avail_x_points)*factor)\n",
        "\n",
        "              \n",
        "                random_startx = sample(avail_x_points,  pick_num)\n",
        "\n",
        "                for start in random_startx:\n",
        "                    imcrop = imresize.crop((start, 0, start+113, 113))\n",
        "                    images.append(np.asarray(imcrop))\n",
        "                    targets.append(batch_target)\n",
        "\n",
        "            \n",
        "            X_train = np.array(images)\n",
        "            y_train = np.array(targets)\n",
        "\n",
        "           \n",
        "            X_train = X_train.reshape(X_train.shape[0], 113, 113, 1)\n",
        "           \n",
        "            X_train = X_train.astype('float32')\n",
        "            X_train /= 255\n",
        "\n",
        "         \n",
        "            y_train = to_categorical(y_train, num_classes)\n",
        "\n",
        "            yield shuffle(X_train, y_train)"
      ],
      "execution_count": null,
      "outputs": []
    },
    {
      "cell_type": "code",
      "metadata": {
        "id": "AZz4xkEJeZ7E"
      },
      "source": [
        "# Generate data for training and validation\n",
        "train_generator = generate_data(train_test_split, train_targets, batch_size=batch_size, factor = 0.3)\n",
        "validation_generator = generate_data(validation_files, validation_targets, batch_size=batch_size, factor = 0.3)\n",
        "test_generator = generate_data(test_files, test_targets, batch_size=batch_size, factor = 0.1)"
      ],
      "execution_count": null,
      "outputs": []
    },
    {
      "cell_type": "markdown",
      "metadata": {
        "id": "JpeBPoGpn4KA"
      },
      "source": [
        "### **Step 5: Creating the defining the model/network architecture**.\n",
        "Adding the Pooling Layers, CNN Layers, Activation Functions, etc."
      ]
    },
    {
      "cell_type": "code",
      "metadata": {
        "id": "ripWEUPLf3BG"
      },
      "source": [
        "def resize_image(image):\n",
        "    import tensorflow as tf\n",
        "    return tf.image.resize_images(image,[56,56])\n",
        "\n",
        "\n",
        "row, col, ch = 113, 113, 1\n",
        "\n",
        "model = Sequential()\n",
        "model.add(ZeroPadding2D((1, 1), input_shape=(row, col, ch)))\n",
        "\n",
        "\n",
        "#model.add(Lambda(resize_image)) \n",
        "#model.add(Lambda(lambda x: resize_image))\n",
        "\n",
        "\n",
        "model.add(Convolution2D(filters= 32, kernel_size =(5,5), strides= (2,2), padding='same', name='conv1')) \n",
        "model.add(Activation('relu'))\n",
        "model.add(MaxPooling2D(pool_size=(2,2),strides=(2,2), name='pool1'))\n",
        "\n",
        "model.add(Convolution2D(filters= 64, kernel_size =(3,3), strides= (1,1), padding='same', name='conv2'))  \n",
        "model.add(Activation('relu'))\n",
        "model.add(MaxPooling2D(pool_size=(2,2),strides=(2,2), name='pool2'))\n",
        "\n",
        "model.add(Convolution2D(filters= 128, kernel_size =(3,3), strides= (1,1), padding='same', name='conv3')) \n",
        "model.add(Activation('relu'))\n",
        "model.add(MaxPooling2D(pool_size=(2,2),strides=(2,2), name='pool3'))\n",
        "\n",
        "\n",
        "model.add(Flatten())\n",
        "model.add(Dropout(0.5))\n",
        "\n",
        "model.add(Dense(512, name='dense1'))  \n",
        "\n",
        "model.add(Activation('relu'))\n",
        "model.add(Dropout(0.5))\n",
        "\n",
        "model.add(Dense(256, name='dense2'))  \n",
        "model.add(Activation('relu'))\n",
        "model.add(Dropout(0.5))\n",
        "\n",
        "model.add(Dense(num_classes,name='output'))\n",
        "model.add(Activation('softmax'))\n",
        "model.compile(loss='categorical_crossentropy', optimizer=Adam(), metrics=['accuracy'])\n",
        "print(model.summary())"
      ],
      "execution_count": null,
      "outputs": []
    },
    {
      "cell_type": "markdown",
      "metadata": {
        "id": "oc3diGznoYAZ"
      },
      "source": [
        "## **Step 6: Training the model**.\n",
        "Using 4 epochs of 3000 train samples and 280 val samples"
      ]
    },
    {
      "cell_type": "code",
      "metadata": {
        "id": "nD1hWTfAg3Ao"
      },
      "source": [
        "# Training the model \n",
        "\n",
        "nb_epoch = 4\n",
        "\n",
        "samples_per_epoch = 3000\n",
        "nb_val_samples = 280\n",
        "\n",
        "\n",
        "\n",
        "from keras.callbacks import ModelCheckpoint\n",
        "filepath=\"gdrive/My Drive/check-{epoch:02d}-{val_loss:.4f}.hdf5\"\n",
        "checkpoint = ModelCheckpoint(filepath= filepath, verbose=1, save_best_only=False)\n",
        "callbacks_list = [checkpoint]\n",
        "\n",
        "\n",
        "history_object = model.fit_generator(train_generator, samples_per_epoch= samples_per_epoch,\n",
        "                                     validation_data=validation_generator,\n",
        "                                     nb_val_samples=nb_val_samples, nb_epoch=nb_epoch, verbose=1, callbacks=callbacks_list)"
      ],
      "execution_count": null,
      "outputs": []
    },
    {
      "cell_type": "markdown",
      "metadata": {
        "id": "1UBN-64XhKrE"
      },
      "source": [
        "\n",
        "/usr/local/lib/python3.6/dist-packages/ipykernel_launcher.py:18: UserWarning: The semantics of the Keras 2 argument `steps_per_epoch` is not the same as the Keras 1 argument `samples_per_epoch`. `steps_per_epoch` is the number of batches to draw from the generator at each epoch. Basically steps_per_epoch = samples_per_epoch/batch_size. Similarly `nb_val_samples`->`validation_steps` and `val_samples`->`steps` arguments have changed. Update your method calls accordingly.\n",
        "/usr/local/lib/python3.6/dist-packages/ipykernel_launcher.py:18: UserWarning: Update your `fit_generator` call to the Keras 2 API: `fit_generator(<generator..., validation_data=<generator..., verbose=1, callbacks=[<keras.ca..., steps_per_epoch=3000, epochs=4, validation_steps=280)`\n",
        "Epoch 1/4\n",
        "3000/3000 [==============================] - 2754s 918ms/step - loss: 1.5004 - accuracy: 0.5691 - val_loss: 0.7522 - val_accuracy: 0.8088\n",
        "\n",
        "Epoch 00001: saving model to gdrive/My Drive/check-01-0.7522.hdf5\n",
        "Epoch 2/4\n",
        "3000/3000 [==============================] - 1733s 578ms/step - loss: 0.5590 - accuracy: 0.8275 - val_loss: 0.3776 - val_accuracy: 0.8817\n",
        "\n",
        "Epoch 00002: saving model to gdrive/My Drive/check-02-0.3776.hdf5\n",
        "Epoch 3/4\n",
        "3000/3000 [==============================] - 1740s 580ms/step - loss: 0.3559 - accuracy: 0.8892 - val_loss: 0.5537 - val_accuracy: 0.8952\n",
        "\n",
        "Epoch 00003: saving model to gdrive/My Drive/check-03-0.5537.hdf5\n",
        "Epoch 4/4\n",
        "3000/3000 [==============================] - 1779s 593ms/step - loss: 0.2617 - accuracy: 0.9183 - val_loss: 0.1937 - val_accuracy: 0.9197\n",
        "\n",
        "Epoch 00004: saving model to gdrive/My Drive/check-04-0.1937.hdf5"
      ]
    },
    {
      "cell_type": "markdown",
      "metadata": {
        "id": "0iC96vgvotje"
      },
      "source": [
        "## **Step 7: Saving the model**.\n",
        "Saving the model using HDF5 file extension"
      ]
    },
    {
      "cell_type": "code",
      "metadata": {
        "id": "kZXqeJ0QhPh4"
      },
      "source": [
        "\n",
        "#Saving the model and weights into GDrive\n",
        "\n",
        "from keras.models import model_from_json   \n",
        "# serialize model to JSON\n",
        "model_json = model.to_json()\n",
        "with open(\"gdrive/My Drive/TCS Internship/Model/HTR_Model.json\", \"w\") as json_file:\n",
        "    json_file.write(model_json)\n",
        "# serialize weights to HDF5\n",
        "model.save_weights(\"gdrive/My Drive/TCS Internship/Model/HTR_model_weights.hdf5\")\n",
        "print(\"Saved model to GDrive\")"
      ],
      "execution_count": null,
      "outputs": []
    },
    {
      "cell_type": "markdown",
      "metadata": {
        "id": "BP2JBnsHo1_w"
      },
      "source": [
        "Saved model to GDrive"
      ]
    },
    {
      "cell_type": "code",
      "metadata": {
        "id": "fFx4dPhLhkHA"
      },
      "source": [
        "#Loading json and weights to recover model\n",
        "import tensorflow as tf\n",
        "json_file = open(\"https://drive.google.com/drive/folders/1jTK1mPgJqy75Th_apkwusACNE54OTUjv?usp=sharing\", 'r')\n",
        "loaded_model_json = json_file.read()\n",
        "json_file.close()\n",
        "l_model = tf.keras.models.model_from_json(loaded_model_json)\n",
        "# load weights into new model\n",
        "l_model.load_weights(\"gdrive/My Drive/TCS Internship/Model/HTR_model_weights.hdf5\")\n",
        "print(\"Loaded model from Gdrive\")"
      ],
      "execution_count": null,
      "outputs": []
    },
    {
      "cell_type": "code",
      "metadata": {
        "id": "wAmw0Atsh-TZ"
      },
      "source": [
        "model.save(\"\")\n",
        "print(\"Saved Keras Model\")"
      ],
      "execution_count": null,
      "outputs": []
    },
    {
      "cell_type": "code",
      "metadata": {
        "id": "0QCO2JCCihvd"
      },
      "source": [
        "#from keras.models import load_model\n",
        "# load model\n",
        "from tensorflow import keras\n",
        "loaded_model = keras.models.load_model(\"gdrive/My Drive/TCS Internship/Model/HTR_model.hdf5\", custom_objects=None, compile=True, options=None)\n",
        "print(\"Loaded the Keras Model\")"
      ],
      "execution_count": null,
      "outputs": []
    },
    {
      "cell_type": "code",
      "metadata": {
        "id": "yH1K89O2iuMy"
      },
      "source": [
        "print(loaded_model.summary())"
      ],
      "execution_count": null,
      "outputs": []
    },
    {
      "cell_type": "markdown",
      "metadata": {
        "id": "3ap1Z0xWi4A1"
      },
      "source": [
        "\n",
        "Model: \"sequential\"\n",
        "_________________________________________________________________\n",
        "Layer (type)                 Output Shape              Param #   \n",
        "=================================================================\n",
        "zero_padding2d (ZeroPadding2 (None, 115, 115, 1)       0         \n",
        "_________________________________________________________________\n",
        "conv1 (Conv2D)               (None, 58, 58, 32)        832       \n",
        "_________________________________________________________________\n",
        "activation (Activation)      (None, 58, 58, 32)        0         \n",
        "_________________________________________________________________\n",
        "pool1 (MaxPooling2D)         (None, 29, 29, 32)        0         \n",
        "_________________________________________________________________\n",
        "conv2 (Conv2D)               (None, 29, 29, 64)        18496     \n",
        "_________________________________________________________________\n",
        "activation_1 (Activation)    (None, 29, 29, 64)        0         \n",
        "_________________________________________________________________\n",
        "pool2 (MaxPooling2D)         (None, 14, 14, 64)        0         \n",
        "_________________________________________________________________\n",
        "conv3 (Conv2D)               (None, 14, 14, 128)       73856     \n",
        "_________________________________________________________________\n",
        "activation_2 (Activation)    (None, 14, 14, 128)       0         \n",
        "_________________________________________________________________\n",
        "pool3 (MaxPooling2D)         (None, 7, 7, 128)         0         \n",
        "_________________________________________________________________\n",
        "flatten (Flatten)            (None, 6272)              0         \n",
        "_________________________________________________________________\n",
        "dropout (Dropout)            (None, 6272)              0         \n",
        "_________________________________________________________________\n",
        "dense1 (Dense)               (None, 512)               3211776   \n",
        "_________________________________________________________________\n",
        "activation_3 (Activation)    (None, 512)               0         \n",
        "_________________________________________________________________\n",
        "dropout_1 (Dropout)          (None, 512)               0         \n",
        "_________________________________________________________________\n",
        "dense2 (Dense)               (None, 256)               131328    \n",
        "_________________________________________________________________\n",
        "activation_4 (Activation)    (None, 256)               0         \n",
        "_________________________________________________________________\n",
        "dropout_2 (Dropout)          (None, 256)               0         \n",
        "_________________________________________________________________\n",
        "output (Dense)               (None, 50)                12850     \n",
        "_________________________________________________________________\n",
        "activation_5 (Activation)    (None, 50)                0         \n",
        "=================================================================\n",
        "Total params: 3,449,138\n",
        "Trainable params: 3,449,138\n",
        "Non-trainable params: 0\n",
        "_________________________________________________________________\n",
        "None"
      ]
    },
    {
      "cell_type": "markdown",
      "metadata": {
        "id": "gh4QXeVspWeQ"
      },
      "source": [
        "## **Step 8: Testing the model.**\n",
        "\n",
        "\n",
        "\n"
      ]
    },
    {
      "cell_type": "code",
      "metadata": {
        "id": "I8On_uJNi7Cs"
      },
      "source": [
        "#model.load_weights('gdrive/My Drive/check-04-0.2584.hdf5')\n",
        "scores = model.evaluate_generator(test_generator,280) \n",
        "print(\"Accuracy = \", scores[1])"
      ],
      "execution_count": null,
      "outputs": []
    },
    {
      "cell_type": "markdown",
      "metadata": {
        "id": "VFGoFcprjJwl"
      },
      "source": [
        "Accuracy =  0.9174939393997192"
      ]
    },
    {
      "cell_type": "markdown",
      "metadata": {
        "id": "MualseOApj2T"
      },
      "source": [
        "### **Step 9: Prediction**.\n",
        "Prediction being done on Test Files"
      ]
    },
    {
      "cell_type": "code",
      "metadata": {
        "id": "ta9bS03-jM0c"
      },
      "source": [
        "images = []\n",
        "for filename in test_files[:50]:\n",
        "    im = Image.open(filename)\n",
        "    cur_width = im.size[0]\n",
        "    cur_height = im.size[1]\n",
        "\n",
        "   \n",
        "    height_fac = 113 / cur_height\n",
        "\n",
        "    new_width = int(cur_width * height_fac)\n",
        "    size = new_width, 113\n",
        "\n",
        "    imresize = im.resize((size), Image.ANTIALIAS)  \n",
        "    now_width = imresize.size[0]\n",
        "    now_height = imresize.size[1]\n",
        "\n",
        "\n",
        "    avail_x_points = list(range(0, now_width - 113 ))\n",
        "\n",
        "    \n",
        "    factor = 0.1\n",
        "    pick_num = int(len(avail_x_points)*factor)\n",
        "    \n",
        "    random_startx = sample(avail_x_points,  pick_num)\n",
        "\n",
        "    for start in random_startx:\n",
        "        imcrop = imresize.crop((start, 0, start+113, 113))\n",
        "        images.append(np.asarray(imcrop))\n",
        "        \n",
        "    X_test = np.array(images)\n",
        "    \n",
        "    X_test = X_test.reshape(X_test.shape[0], 113, 113, 1)\n",
        "   \n",
        "    X_test = X_test.astype('float32')\n",
        "    X_test /= 255\n",
        "    shuffle(X_test)\n",
        "\n",
        "print(X_test.shape)"
      ],
      "execution_count": null,
      "outputs": []
    },
    {
      "cell_type": "markdown",
      "metadata": {
        "id": "uQTEyTKmjVCc"
      },
      "source": [
        "(6264, 113, 113, 1)"
      ]
    },
    {
      "cell_type": "code",
      "metadata": {
        "id": "oH36TfgsjYGk"
      },
      "source": [
        "predictions = loaded_model.predict(X_test, verbose =1)\n",
        "\n",
        "print(predictions.shape)\n",
        "predicted_writer = []\n",
        "for pred in predictions:\n",
        "    predicted_writer.append(np.argmax(pred))\n",
        "print(len(predicted_writer))"
      ],
      "execution_count": null,
      "outputs": []
    },
    {
      "cell_type": "markdown",
      "metadata": {
        "id": "OHhCJvvbjeMk"
      },
      "source": [
        "196/196 [==============================] - 1s 5ms/step\n",
        "\n",
        "(6264, 50)\n",
        "\n",
        "6264"
      ]
    },
    {
      "cell_type": "code",
      "metadata": {
        "id": "QMYeu7JLjlaw"
      },
      "source": [
        "writer_number = 18\n",
        "total_images =10\n",
        "counter = 0\n",
        "for i in range(len(predicted_writer)//10):\n",
        "    if predicted_writer[i] == writer_number:\n",
        "        image = X_test[i].squeeze()\n",
        "        plt.figure(figsize=(2,2))\n",
        "        plt.imshow(image, cmap ='gray')"
      ],
      "execution_count": null,
      "outputs": []
    },
    {
      "cell_type": "code",
      "metadata": {
        "id": "NR7DjgbjjiG-"
      },
      "source": [
        "writer_number = 18\n",
        "total_images =10\n",
        "counter = 0\n",
        "print(\"Anirudh Goel\")\n",
        "for i in range(len(predicted_writer)//10):\n",
        "    if predicted_writer[i] == writer_number:\n",
        "        image = X_test[i].squeeze()\n",
        "        plt.figure(figsize=(2,2))\n",
        "        plt.imshow(image, cmap ='gray')\n",
        "        plt.show()"
      ],
      "execution_count": null,
      "outputs": []
    },
    {
      "cell_type": "markdown",
      "metadata": {
        "id": "aPKRl1_Hp_NT"
      },
      "source": [
        "### **Step 10: Plotting the loss and accuracy plots**."
      ]
    },
    {
      "cell_type": "code",
      "metadata": {
        "id": "4mJHza5Fj69e"
      },
      "source": [
        "def plotgraph(epochs, acc, val_acc):\n",
        "    # Plot training & validation accuracy values\n",
        "    plt.plot(epochs, acc, 'b')\n",
        "    plt.plot(epochs, val_acc, 'r')\n",
        "    plt.title('Model accuracy')\n",
        "    plt.ylabel('Accuracy')\n",
        "    plt.xlabel('Epoch')\n",
        "    plt.legend(['Train', 'Val'], loc='upper left')\n",
        "    plt.show()"
      ],
      "execution_count": null,
      "outputs": []
    },
    {
      "cell_type": "code",
      "metadata": {
        "id": "NVr1jaDkkDer"
      },
      "source": [
        "cc = history_object.history['accuracy']\n",
        "val_acc = history_object.history['val_accuracy']\n",
        "loss = history_object.history['loss']\n",
        "val_loss = history_object.history['val_loss']\n",
        "epochs = range(1,len(loss)+1)"
      ],
      "execution_count": null,
      "outputs": []
    },
    {
      "cell_type": "markdown",
      "metadata": {
        "id": "7Pdwz3ksqN_C"
      },
      "source": [
        "### **Loss vs Epochs Graph**\n",
        "It shows deacrease in loss over epochs"
      ]
    },
    {
      "cell_type": "markdown",
      "metadata": {
        "id": "RIBunrvOrYxN"
      },
      "source": [
        "\n",
        "### **Loss vs Epochs Graph**\n",
        "It shows deacrease in loss over epochs."
      ]
    },
    {
      "cell_type": "code",
      "metadata": {
        "id": "9jKHSJ5fkNow"
      },
      "source": [
        "plotgraph(epochs, loss, val_loss)"
      ],
      "execution_count": null,
      "outputs": []
    },
    {
      "cell_type": "markdown",
      "metadata": {
        "id": "pBX83W6LlwmB"
      },
      "source": [
        ""
      ]
    },
    {
      "cell_type": "markdown",
      "metadata": {
        "id": "FrQ4S9wUkTCv"
      },
      "source": [
        "![graph.png](data:image/png;base64,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)"
      ]
    },
    {
      "cell_type": "markdown",
      "metadata": {
        "id": "WHoBQCM4rzK3"
      },
      "source": [
        "\n",
        "### **Accuracy vs Epochs Graph**\n",
        "It shows increase in accuracy over epochs."
      ]
    },
    {
      "cell_type": "code",
      "metadata": {
        "id": "ibcF2oRzkjvU"
      },
      "source": [
        "plotgraph(epochs, acc, val_acc)"
      ],
      "execution_count": null,
      "outputs": []
    },
    {
      "cell_type": "markdown",
      "metadata": {
        "id": "fkNgm1ODku5z"
      },
      "source": [
        "![graph2.png](data:image/png;base64,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)"
      ]
    },
    {
      "cell_type": "markdown",
      "metadata": {
        "id": "fcBDsEoO6dFP"
      },
      "source": [
        "## **END**"
      ]
    }
  ]
}